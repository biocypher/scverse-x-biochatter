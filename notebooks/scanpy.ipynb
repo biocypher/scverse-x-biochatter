{
 "cells": [
  {
   "cell_type": "code",
   "execution_count": 7,
   "id": "cb78e187-a4dd-4c50-a82c-dcd2212b6cce",
   "metadata": {},
   "outputs": [],
   "source": [
    "import scanpy as sc"
   ]
  },
  {
   "cell_type": "code",
   "execution_count": 8,
   "id": "28415e19-a9f9-4614-87bb-90bd2d74b81f",
   "metadata": {},
   "outputs": [],
   "source": [
    "import pandas as pd\n",
    "import numpy as np"
   ]
  },
  {
   "cell_type": "markdown",
   "id": "f93a9f55-c373-45d0-a4a7-e4ee83f24462",
   "metadata": {
    "jp-MarkdownHeadingCollapsed": true
   },
   "source": [
    "# Download data"
   ]
  },
  {
   "cell_type": "code",
   "execution_count": 9,
   "id": "86feedae-86ac-41a8-b923-f8f481907327",
   "metadata": {},
   "outputs": [
    {
     "name": "stderr",
     "output_type": "stream",
     "text": [
      "100%|██████████| 5.58M/5.58M [00:12<00:00, 453kB/s]\n"
     ]
    }
   ],
   "source": [
    "adata = sc.datasets.pbmc3k()"
   ]
  },
  {
   "cell_type": "code",
   "execution_count": 10,
   "id": "9a76d230",
   "metadata": {},
   "outputs": [],
   "source": [
    "#include sys path of functions\n",
    "import sys\n",
    "sys.path.append(\"..\")\n"
   ]
  },
  {
   "cell_type": "markdown",
   "id": "f7ee9254-f7a8-4c41-bc59-2a4b0d3c47f0",
   "metadata": {
    "jp-MarkdownHeadingCollapsed": true
   },
   "source": [
    "# Preprocessing PP"
   ]
  },
  {
   "cell_type": "code",
   "execution_count": 11,
   "id": "8d30a7d2",
   "metadata": {},
   "outputs": [],
   "source": [
    "# Get the pydantic classes for all the methods in scanpy.pp\n",
    "from functions.autogenerate_pydantic_classes import generate_pydantic_classes\n",
    "generated_classes = generate_pydantic_classes(sc.pp)\n"
   ]
  },
  {
   "cell_type": "code",
   "execution_count": 14,
   "id": "7d66fd49",
   "metadata": {},
   "outputs": [],
   "source": [
    "from langchain_openai import ChatOpenAI\n",
    "from langchain_core.output_parsers import PydanticToolsParser\n",
    "\n",
    "llm = ChatOpenAI(model=\"gpt-4-turbo\", temperature=0)\n",
    "llm_with_tools = llm.bind_tools(generated_classes)"
   ]
  },
  {
   "cell_type": "markdown",
   "id": "bcf50190-5aa9-4f39-8fc3-58d1a8d6735c",
   "metadata": {},
   "source": [
    "#### Mark mitochondrial genes to use for QC\n",
    "\n",
    "Expected code snippet:\n",
    "\n",
    "`adata.var[\"mt\"] = adata.var_names.str.startswith(\"MT-\")`"
   ]
  },
  {
   "cell_type": "code",
   "execution_count": 15,
   "id": "f647a646",
   "metadata": {},
   "outputs": [
    {
     "data": {
      "text/plain": [
       "[]"
      ]
     },
     "execution_count": 15,
     "metadata": {},
     "output_type": "execute_result"
    }
   ],
   "source": [
    "query = [\n",
    "\t(\"system\", \"You're an expert data scientist\"), \n",
    "\t(\"human\", \"I want to mark mitochondrial genes of my adata object\"),\n",
    "]\n",
    "chain = llm_with_tools | PydanticToolsParser(tools=generated_classes)\n",
    "result = chain.invoke(query)\n",
    "result"
   ]
  },
  {
   "cell_type": "markdown",
   "id": "55007344-6876-4e7b-a885-b691e05f242a",
   "metadata": {},
   "source": [
    "#### calculate qc_metrics including mitochondrial as covariate\n",
    "\n",
    "Expected code snippet:\n",
    "\n",
    "```\n",
    "sc.pp.calculate_qc_metrics(\n",
    "    adata, qc_vars=[\"mt\"], percent_top=None, log1p=False, inplace=True\n",
    ")\n",
    "```"
   ]
  },
  {
   "cell_type": "code",
   "execution_count": null,
   "id": "6c13d23b-496c-496b-8658-f14569686810",
   "metadata": {},
   "outputs": [],
   "source": []
  },
  {
   "cell_type": "markdown",
   "id": "80f18db5-576a-48bd-bd19-de84013de052",
   "metadata": {},
   "source": [
    "#### filter genes detected in less than 5 cells\n",
    "Expected code snippet:\n",
    "\n",
    "```\n",
    "sc.pp.filter_genes(adata, min_cells=3)\n",
    "```"
   ]
  },
  {
   "cell_type": "code",
   "execution_count": null,
   "id": "f6b95f9e-5937-4458-98c4-85e063763dfa",
   "metadata": {},
   "outputs": [],
   "source": []
  },
  {
   "cell_type": "markdown",
   "id": "d1850eab-8f96-4dbf-bae9-f42659a1a3cc",
   "metadata": {},
   "source": [
    "#### filter cells with less than 200 genes\n",
    "Expected code snippet:\n",
    "\n",
    "```\n",
    "sc.pp.filter_cells(adata, min_genes=200)\n",
    "```"
   ]
  },
  {
   "cell_type": "code",
   "execution_count": null,
   "id": "93e7827a-796d-475a-baed-e499f664845b",
   "metadata": {},
   "outputs": [],
   "source": []
  },
  {
   "cell_type": "markdown",
   "id": "79b14829-d14d-40d5-b7a9-71520305a1b6",
   "metadata": {},
   "source": [
    "#### filter cells with more than 2500 genes\n",
    "Expected code snippet:\n",
    "\n",
    "```\n",
    "sc.pp.filter_cells(adata, max_genes=200)\n",
    "```"
   ]
  },
  {
   "cell_type": "code",
   "execution_count": null,
   "id": "095a459b-9062-42d8-a709-2c5c698e8e08",
   "metadata": {},
   "outputs": [],
   "source": []
  },
  {
   "cell_type": "markdown",
   "id": "25f1f3c0-4856-41e3-8af9-9a31fb7fcd2a",
   "metadata": {},
   "source": [
    "#### filter cells with more than 2500 genes\n",
    "Expected code snippet:\n",
    "\n",
    "```\n",
    "sc.pp.filter_cells(adata, max_genes=200)\n",
    "```"
   ]
  },
  {
   "cell_type": "code",
   "execution_count": null,
   "id": "0ea42eac-f52c-47b9-abda-e54502e8fdde",
   "metadata": {},
   "outputs": [],
   "source": []
  },
  {
   "cell_type": "markdown",
   "id": "b74a2813-c1e4-44b7-bdf3-3206f47a5064",
   "metadata": {},
   "source": [
    "#### filter cells with less than 5% mitochondrial fraction\n",
    "Expected code snippet:\n",
    "\n",
    "```\n",
    "adata = adata[adata.obs.pct_counts_mt < 5, :].copy()\n",
    "\n",
    "```"
   ]
  },
  {
   "cell_type": "code",
   "execution_count": null,
   "id": "60b47bb7-d95d-4e05-aa49-35fb8be4c1d4",
   "metadata": {},
   "outputs": [],
   "source": []
  },
  {
   "cell_type": "markdown",
   "id": "14cfc60c-6c85-4cb4-8b39-82e71c329a6e",
   "metadata": {},
   "source": [
    "#### store raw counts in a separate layer\n",
    "Expected code snippet:\n",
    "\n",
    "```\n",
    "adata.layers['counts'] = adata.X.copy()\n",
    "```"
   ]
  },
  {
   "cell_type": "code",
   "execution_count": null,
   "id": "fe64c73b-7650-4b22-b579-d3611658e900",
   "metadata": {},
   "outputs": [],
   "source": []
  },
  {
   "cell_type": "markdown",
   "id": "9c32eb59-540a-4ea3-ade1-93c200626a25",
   "metadata": {},
   "source": [
    "#### normalize expression\n",
    "Expected code snippet:\n",
    "\n",
    "```\n",
    "sc.pp.normalize_total(adata, target_sum=1e4)\n",
    "```"
   ]
  },
  {
   "cell_type": "code",
   "execution_count": null,
   "id": "595f9216-72c4-4a1f-8467-158ba3f87cc0",
   "metadata": {},
   "outputs": [],
   "source": []
  },
  {
   "cell_type": "markdown",
   "id": "a52439a0-7756-4616-8c5a-8bfaf7898e90",
   "metadata": {},
   "source": [
    "#### log transform\n",
    "Expected code snippet:\n",
    "\n",
    "```\n",
    "sc.pp.log1p(adata)\n",
    "```"
   ]
  },
  {
   "cell_type": "code",
   "execution_count": null,
   "id": "f099cbf2-5ea0-48d5-a960-4b8b8443b2b7",
   "metadata": {},
   "outputs": [],
   "source": []
  },
  {
   "cell_type": "markdown",
   "id": "d34641eb-22b8-4f92-8e9b-4a6460111f67",
   "metadata": {},
   "source": [
    "#### calculate highly variable genes\n",
    "Expected code snippet:\n",
    "\n",
    "```\n",
    "sc.pp.highly_variable_genes(adata)\n",
    "```"
   ]
  },
  {
   "cell_type": "code",
   "execution_count": null,
   "id": "0b3b468f-be40-40d3-9fe6-021cf8b492b4",
   "metadata": {},
   "outputs": [],
   "source": []
  },
  {
   "cell_type": "markdown",
   "id": "2f11f120-d796-4ee3-8a04-77f77e4a9dc4",
   "metadata": {},
   "source": [
    "#### compute PCA\n",
    "Expected code snippet:\n",
    "\n",
    "```\n",
    "sc.pp.pca(adata) | sc.tl.pca(adata)\n",
    "```"
   ]
  },
  {
   "cell_type": "code",
   "execution_count": null,
   "id": "d1e25a1c-f892-4fb2-8b37-86a0cf7e78c1",
   "metadata": {},
   "outputs": [],
   "source": []
  },
  {
   "cell_type": "markdown",
   "id": "b33eacca-bac9-4739-9399-166b0ed1321f",
   "metadata": {},
   "source": [
    "#### compute neighbors\n",
    "Expected code snippet:\n",
    "\n",
    "```\n",
    "sc.pp.neighbors(adata)\n",
    "```"
   ]
  },
  {
   "cell_type": "code",
   "execution_count": null,
   "id": "be9f9f49-5164-4d91-a165-c670eab6fe02",
   "metadata": {},
   "outputs": [],
   "source": []
  },
  {
   "cell_type": "markdown",
   "id": "317745be-828e-48a8-96b0-2414201652fc",
   "metadata": {
    "jp-MarkdownHeadingCollapsed": true
   },
   "source": [
    "# Tools TL"
   ]
  },
  {
   "cell_type": "markdown",
   "id": "afcf33a3-1c86-45d4-81c6-c4ca5107b223",
   "metadata": {
    "jp-MarkdownHeadingCollapsed": true
   },
   "source": [
    "## Embeddings"
   ]
  },
  {
   "cell_type": "markdown",
   "id": "ad5eb65e-b273-4af3-8acc-dc33f43e60a2",
   "metadata": {},
   "source": [
    "#### UMAP\n",
    "Expected code snippet:\n",
    "\n",
    "```\n",
    "sc.tl.umap(adata)\n",
    "```"
   ]
  },
  {
   "cell_type": "code",
   "execution_count": null,
   "id": "cee9c354-85a6-40e9-9b23-149500f4f69a",
   "metadata": {},
   "outputs": [],
   "source": []
  },
  {
   "cell_type": "markdown",
   "id": "ecc27083-cf0d-40d8-bffa-f4cefd57bda7",
   "metadata": {},
   "source": [
    "#### TSNE\n",
    "Expected code snippet:\n",
    "\n",
    "```\n",
    "sc.tl.tsne(adata)\n",
    "```"
   ]
  },
  {
   "cell_type": "code",
   "execution_count": null,
   "id": "80de4ade-0cfe-49f5-874f-1a4669c8e026",
   "metadata": {},
   "outputs": [],
   "source": []
  },
  {
   "cell_type": "markdown",
   "id": "1be1f2d9-3fd0-4d2a-9102-b7083c8bf2a7",
   "metadata": {},
   "source": [
    "#### Diffusion maps\n",
    "Expected code snippet:\n",
    "\n",
    "```\n",
    "sc.tl.diffmap(adata)\n",
    "```"
   ]
  },
  {
   "cell_type": "code",
   "execution_count": null,
   "id": "bce03747-e59d-4049-af96-61858e5114ce",
   "metadata": {},
   "outputs": [],
   "source": []
  },
  {
   "cell_type": "markdown",
   "id": "2e5cbe71-c6a6-47c1-86f2-b57d99c0b1cc",
   "metadata": {},
   "source": [
    "#### force directed graph\n",
    "Expected code snippet:\n",
    "\n",
    "```\n",
    "sc.tl.draw_graph(adata)\n",
    "```"
   ]
  },
  {
   "cell_type": "code",
   "execution_count": null,
   "id": "6913af62-249c-4890-9cd8-c15d22932f9e",
   "metadata": {},
   "outputs": [],
   "source": []
  },
  {
   "cell_type": "markdown",
   "id": "9916a551-58b2-4723-97b3-2a15b98a2285",
   "metadata": {
    "jp-MarkdownHeadingCollapsed": true
   },
   "source": [
    "## Clustering & trajectories"
   ]
  },
  {
   "cell_type": "markdown",
   "id": "855beea8-d16b-40a1-b7c5-b9b902b77a62",
   "metadata": {},
   "source": [
    "#### Leiden\n",
    "Expected code snippet:\n",
    "\n",
    "```\n",
    "sc.tl.leiden(adata, resolution = X)\n",
    "```"
   ]
  },
  {
   "cell_type": "code",
   "execution_count": null,
   "id": "44920ba6-e464-4dcf-a6d4-d5deb494df05",
   "metadata": {},
   "outputs": [],
   "source": []
  },
  {
   "cell_type": "markdown",
   "id": "2311ab6e-55f7-4df2-9db7-35a56d9c2f02",
   "metadata": {},
   "source": [
    "#### Pseudotime\n",
    "Expected code snippet:\n",
    "\n",
    "```\n",
    "sc.tl.dpt(adata)\n",
    "```"
   ]
  },
  {
   "cell_type": "code",
   "execution_count": null,
   "id": "29e9a44c-8f89-473b-8bc0-26de994eeeb7",
   "metadata": {},
   "outputs": [],
   "source": []
  },
  {
   "cell_type": "code",
   "execution_count": null,
   "id": "b042018d-6a96-42f9-9d4a-8931957b37bb",
   "metadata": {},
   "outputs": [],
   "source": []
  },
  {
   "cell_type": "markdown",
   "id": "3cdfdc4c-1b16-44b7-9aad-fca56ba74ced",
   "metadata": {},
   "source": [
    "#### marker genes of leiden clusters\n",
    "Expected code snippet:\n",
    "\n",
    "```\n",
    "sc.tl.rank_genes_by_groups(adata, groupby = \"leiden\")\n",
    "```"
   ]
  },
  {
   "cell_type": "code",
   "execution_count": null,
   "id": "50c1836f-fe57-4472-bd29-4439a29e02b9",
   "metadata": {},
   "outputs": [],
   "source": []
  },
  {
   "cell_type": "markdown",
   "id": "2e4d1e99-0108-4ecb-9ca3-f5eb4dde2eba",
   "metadata": {},
   "source": [
    "# Plotting PL"
   ]
  },
  {
   "cell_type": "markdown",
   "id": "ea404ba6-a269-44bb-afd8-c862b934c049",
   "metadata": {},
   "source": [
    "## QC"
   ]
  },
  {
   "cell_type": "markdown",
   "id": "a254e5d9-1642-4dae-98c0-e80e9d441394",
   "metadata": {},
   "source": [
    "#### Plot highest expressed genes\n",
    "\n",
    "Expected code snippets:\n",
    "```\n",
    "scanpy.pl.highest_expr_genes(adata, n_top=20)\n",
    "```"
   ]
  },
  {
   "cell_type": "code",
   "execution_count": null,
   "id": "a8ece2b7-2e6a-47f2-91a2-b2b22a32e7d6",
   "metadata": {},
   "outputs": [],
   "source": []
  },
  {
   "cell_type": "markdown",
   "id": "e8ef1e7d-8278-4989-8e2b-c5a2ca6f7a9d",
   "metadata": {},
   "source": [
    "#### Plot highly variable genes\n",
    "\n",
    "Expected code snippets:\n",
    "```\n",
    "sc.pl.highly_variable_genes(adata)\n",
    "```"
   ]
  },
  {
   "cell_type": "code",
   "execution_count": null,
   "id": "c02cc1d5-1256-4d11-95aa-244bd6660769",
   "metadata": {},
   "outputs": [],
   "source": []
  },
  {
   "cell_type": "markdown",
   "id": "d7e4fe4c-091c-489b-b8a1-b3054dfacbdd",
   "metadata": {
    "jp-MarkdownHeadingCollapsed": true
   },
   "source": [
    "## Scatters"
   ]
  },
  {
   "cell_type": "markdown",
   "id": "91e7df73-d00a-43a0-93f7-1cb2b1cef8ee",
   "metadata": {},
   "source": [
    "#### scatter plot\n",
    "\n",
    "Pick the categories in obs you want to as x and y axes (must be continuous variables)\n",
    "Pick the category to color the dots with, can be continuos and categorical\n",
    "\n",
    "Expected code snippet:\n",
    "\n",
    "```\n",
    "sc.pl.scatter(adata, x = \"category_x\", y = \"category_y\", color = color_category\"])\n",
    "```"
   ]
  },
  {
   "cell_type": "markdown",
   "id": "9d295c0b-076f-40f5-9b9a-db45daf9ae00",
   "metadata": {
    "jp-MarkdownHeadingCollapsed": true
   },
   "source": [
    "## Embeddings"
   ]
  },
  {
   "cell_type": "markdown",
   "id": "b2c7c8c2-01ba-4517-9184-e6a5329a7d24",
   "metadata": {},
   "source": [
    "#### UMAP\n",
    "\n",
    "Pick the category in obs/var you want to plot\n",
    "\n",
    "Expected code snippet:\n",
    "\n",
    "```\n",
    "sc.pl.umap(adata, color = 'category')\n",
    "```"
   ]
  },
  {
   "cell_type": "code",
   "execution_count": null,
   "id": "20068d9e-6151-4e4f-9c7b-129431eea1f9",
   "metadata": {},
   "outputs": [],
   "source": []
  },
  {
   "cell_type": "markdown",
   "id": "afd167a4-2b54-4ac0-a803-3a17fa1e02ef",
   "metadata": {},
   "source": [
    "#### UMAP multiple categories\n",
    "\n",
    "Pick the categories in obs/var you want to plot\n",
    "\n",
    "Expected code snippet:\n",
    "\n",
    "```\n",
    "sc.pl.umap(adata, color = [\"category_1\", ..., \"category_N\"])\n",
    "```"
   ]
  },
  {
   "cell_type": "code",
   "execution_count": null,
   "id": "7528cfd0-527b-4347-ba4b-bf3a313f88a9",
   "metadata": {},
   "outputs": [],
   "source": []
  },
  {
   "cell_type": "markdown",
   "id": "117f92bc-3a5a-4745-9f1e-76a81419242f",
   "metadata": {},
   "source": [
    "#### TSNE\n",
    "\n",
    "Pick the category in obs/var you want to plot\n",
    "\n",
    "Expected code snippet:\n",
    "\n",
    "```\n",
    "sc.pl.tsne(adata, color = 'category')\n",
    "```"
   ]
  },
  {
   "cell_type": "code",
   "execution_count": null,
   "id": "2e48868c-1316-494f-b750-b4062678f70b",
   "metadata": {},
   "outputs": [],
   "source": []
  },
  {
   "cell_type": "markdown",
   "id": "29507be3-d6ca-4316-bc60-b1338eefb072",
   "metadata": {},
   "source": [
    "#### draw_graph\n",
    "\n",
    "Pick the category in obs/var you want to plot\n",
    "\n",
    "Expected code snippet:\n",
    "\n",
    "```\n",
    "sc.pl.draw_graph(adata, color = 'category')\n",
    "```"
   ]
  },
  {
   "cell_type": "code",
   "execution_count": null,
   "id": "0366b017-969c-4fdd-b6ab-70c68d217474",
   "metadata": {},
   "outputs": [],
   "source": []
  },
  {
   "cell_type": "markdown",
   "id": "76083ca1-61a9-4f75-a887-64ee78f70bd0",
   "metadata": {},
   "source": [
    "#### pca\n",
    "\n",
    "Pick the category in obs/var you want to plot\n",
    "\n",
    "Expected code snippet:\n",
    "\n",
    "```\n",
    "sc.pl.pca(adata, color = 'category')\n",
    "```"
   ]
  },
  {
   "cell_type": "code",
   "execution_count": null,
   "id": "744f132d-2259-4bb1-bfd6-0b01bb78e11e",
   "metadata": {},
   "outputs": [],
   "source": []
  },
  {
   "cell_type": "markdown",
   "id": "0a70cdb3-5179-4e35-ac26-1bbab6835ef3",
   "metadata": {
    "jp-MarkdownHeadingCollapsed": true
   },
   "source": [
    "## Generic"
   ]
  },
  {
   "cell_type": "markdown",
   "id": "3fd9442b-622b-4527-821e-51a68c24a431",
   "metadata": {},
   "source": [
    "#### Heatmap\n",
    "\n",
    "pick the list of genes you want to plot. e.g.:\n",
    "```\n",
    "[\n",
    "'KIR3DL2-1',\n",
    "'AL590523.1',\n",
    "'CT476828.1',\n",
    "'PNRC2-1',\n",
    "'SRSF10-1',\n",
    "'AC145205.1',\n",
    "'BAGE5',\n",
    "'CU459201.1',\n",
    "'AC002321.2',\n",
    "'AC002321.1'\n",
    "]\n",
    "```\n",
    "\n",
    "pick the category to group the heatmap by, from the .obs\n",
    "\n",
    "Expected code snippets:\n",
    "\n",
    "```\n",
    "sc.pl.heatmap(adata, groupby = \"grouping category\", var_names = list_of_genes)\n",
    "```\n"
   ]
  },
  {
   "cell_type": "code",
   "execution_count": null,
   "id": "96e5b297-d3ab-4fb4-b2ee-649cf06bf870",
   "metadata": {},
   "outputs": [],
   "source": []
  },
  {
   "cell_type": "markdown",
   "id": "734e8a89-2720-4c42-a26b-e8e3e302c04b",
   "metadata": {},
   "source": [
    "#### Dotplot\n",
    "\n",
    "pick the list of genes you want to plot. e.g.:\n",
    "```\n",
    "[\n",
    "'KIR3DL2-1',\n",
    "'AL590523.1',\n",
    "'CT476828.1',\n",
    "'PNRC2-1',\n",
    "'SRSF10-1',\n",
    "'AC145205.1',\n",
    "'BAGE5',\n",
    "'CU459201.1',\n",
    "'AC002321.2',\n",
    "'AC002321.1'\n",
    "]\n",
    "```\n",
    "\n",
    "pick the category to group the dotplot by, from the .obs\n",
    "\n",
    "Expected code snippets:\n",
    "\n",
    "```\n",
    "sc.pl.dotplot(adata, groupby = \"grouping category\", var_names = list_of_genes)\n",
    "```\n"
   ]
  },
  {
   "cell_type": "code",
   "execution_count": null,
   "id": "76db0d80-6476-4297-a7f1-f5a6a1dac0f0",
   "metadata": {},
   "outputs": [],
   "source": []
  },
  {
   "cell_type": "markdown",
   "id": "fb958a45-face-4fbb-8a1b-72772d742095",
   "metadata": {},
   "source": [
    "#### Matrixplot\n",
    "\n",
    "pick the list of genes you want to plot. e.g.:\n",
    "```\n",
    "[\n",
    "'KIR3DL2-1',\n",
    "'AL590523.1',\n",
    "'CT476828.1',\n",
    "'PNRC2-1',\n",
    "'SRSF10-1',\n",
    "'AC145205.1',\n",
    "'BAGE5',\n",
    "'CU459201.1',\n",
    "'AC002321.2',\n",
    "'AC002321.1'\n",
    "]\n",
    "```\n",
    "\n",
    "pick the category to group the matrix by, from the .obs\n",
    "\n",
    "Expected code snippets:\n",
    "\n",
    "```\n",
    "sc.pl.matrixplot(adata, groupby = \"grouping category\", var_names = list_of_genes)\n",
    "```\n"
   ]
  },
  {
   "cell_type": "code",
   "execution_count": null,
   "id": "d4e93b91-66e4-48ad-a694-d74013c461c0",
   "metadata": {},
   "outputs": [],
   "source": []
  },
  {
   "cell_type": "markdown",
   "id": "b7f612e7-614c-4dcd-a07d-2437226da9b9",
   "metadata": {},
   "source": [
    "#### Violinplot\n",
    "\n",
    "pick the list of genes you want to plot. e.g.:\n",
    "```\n",
    "[\n",
    "'KIR3DL2-1',\n",
    "'AL590523.1',\n",
    "'CT476828.1',\n",
    "'PNRC2-1',\n",
    "'SRSF10-1',\n",
    "'AC145205.1',\n",
    "'BAGE5',\n",
    "'CU459201.1',\n",
    "'AC002321.2',\n",
    "'AC002321.1'\n",
    "]\n",
    "```\n",
    "\n",
    "pick the category to group the violin columns by, from the .obs\n",
    "\n",
    "Expected code snippets:\n",
    "\n",
    "```\n",
    "sc.pl.violin(adata, keys = gene_list, groupby=\"grouping category\")\n",
    "```\n"
   ]
  },
  {
   "cell_type": "code",
   "execution_count": null,
   "id": "20ca7d7c-24d4-4577-8f1a-d8c0e0105a98",
   "metadata": {},
   "outputs": [],
   "source": []
  },
  {
   "cell_type": "markdown",
   "id": "41323633-55c4-496f-93a2-b47ee121b369",
   "metadata": {},
   "source": [
    "#### Cluster Map\n",
    "\n",
    "\n",
    "pick the category to group cells by, from the .obs\n",
    "\n",
    "Expected code snippets:\n",
    "\n",
    "```\n",
    "sc.pl.clustermap(adata, obs_keys=None)\n",
    "```\n"
   ]
  },
  {
   "cell_type": "markdown",
   "id": "b969e548-ce6b-4faf-b43e-5a72b30a816c",
   "metadata": {
    "jp-MarkdownHeadingCollapsed": true
   },
   "source": [
    "## Marker genes"
   ]
  },
  {
   "cell_type": "code",
   "execution_count": null,
   "id": "9bd572a6-4da1-48d1-893c-63ae414f4d46",
   "metadata": {},
   "outputs": [],
   "source": []
  },
  {
   "cell_type": "markdown",
   "id": "1896e3de-fb47-497c-ab29-7c4dc27ebb66",
   "metadata": {},
   "source": [
    "### Heatmap\n",
    "\n",
    "Expected code snippets\n",
    "```\n",
    "sc.pl.rank_genes_groups_heatmap(adata, n_genes=5, groupby=None, values_)\n",
    "```"
   ]
  },
  {
   "cell_type": "code",
   "execution_count": null,
   "id": "b85523a4-ef35-41ac-a2e1-e30b173f515c",
   "metadata": {},
   "outputs": [],
   "source": []
  },
  {
   "cell_type": "markdown",
   "id": "0c79cf0e-bcf5-4e0e-95a6-3be100c50ae2",
   "metadata": {},
   "source": [
    "### Dotplot with logfoldchanges\n",
    "\n",
    "Set vmin and vmax to +/- 2.5\n",
    "\n",
    "Expected code snippets\n",
    "```\n",
    "sc.pl.rank_genes_groups_dotplot(adata, n_genes=5, groupby=None, values_to_plot=\"logfoldchanges\", vmin = -2.5, vmax = 2.5)\n",
    "```"
   ]
  },
  {
   "cell_type": "code",
   "execution_count": null,
   "id": "83436dab-815b-453b-8e6e-7e3680f1f55d",
   "metadata": {},
   "outputs": [],
   "source": []
  },
  {
   "cell_type": "markdown",
   "id": "5de7081e-dacc-44de-a049-db49140ba886",
   "metadata": {},
   "source": [
    "### Matrixplot with logfoldchanges\n",
    "\n",
    "Set vmin and vmax to +/- 2.5\n",
    "\n",
    "Expected code snippets\n",
    "```\n",
    "sc.pl.rank_genes_groups_matrixplot(adata, n_genes=5, groupby=None, values_to_plot=\"logfoldchanges\", vmin = -2.5, vmax = 2.5)\n",
    "```"
   ]
  },
  {
   "cell_type": "code",
   "execution_count": null,
   "id": "d4cfc2c2-d16a-49fa-a071-04e8a14f5853",
   "metadata": {},
   "outputs": [],
   "source": []
  }
 ],
 "metadata": {
  "kernelspec": {
   "display_name": "Python 3 (ipykernel)",
   "language": "python",
   "name": "python3"
  },
  "language_info": {
   "codemirror_mode": {
    "name": "ipython",
    "version": 3
   },
   "file_extension": ".py",
   "mimetype": "text/x-python",
   "name": "python",
   "nbconvert_exporter": "python",
   "pygments_lexer": "ipython3",
   "version": "3.10.10"
  }
 },
 "nbformat": 4,
 "nbformat_minor": 5
}
