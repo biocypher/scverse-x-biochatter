{
 "cells": [
  {
   "cell_type": "code",
   "execution_count": 1,
   "id": "cb78e187-a4dd-4c50-a82c-dcd2212b6cce",
   "metadata": {},
   "outputs": [],
   "source": [
    "import scanpy as sc"
   ]
  },
  {
   "cell_type": "code",
   "execution_count": 2,
   "id": "28415e19-a9f9-4614-87bb-90bd2d74b81f",
   "metadata": {},
   "outputs": [],
   "source": [
    "import pandas as pd\n",
    "import numpy as np"
   ]
  },
  {
   "cell_type": "markdown",
   "id": "f93a9f55-c373-45d0-a4a7-e4ee83f24462",
   "metadata": {
    "jp-MarkdownHeadingCollapsed": true
   },
   "source": [
    "# Download data"
   ]
  },
  {
   "cell_type": "code",
   "execution_count": 63,
   "id": "86feedae-86ac-41a8-b923-f8f481907327",
   "metadata": {},
   "outputs": [],
   "source": [
    "adata = sc.datasets.pbmc3k()"
   ]
  },
  {
   "cell_type": "code",
   "execution_count": 15,
   "id": "9a76d230",
   "metadata": {},
   "outputs": [
    {
     "name": "stdout",
     "output_type": "stream",
     "text": [
      "{'title': 'dendrogram', 'type': 'object', 'properties': {'adata': {'title': 'Adata', 'description': 'Annotated data matrix\\n This is the object type:AnnData', 'type': 'string'}, 'groupby': {'title': 'Groupby', 'description': 'No description available.\\n This is the object type:str | Sequence[str]', 'type': 'string'}, 'n_pcs': {'title': 'N Pcs', 'description': 'Use this many PCs. If `n_pcs==0` use `.X` if `use_rep is None`.\\n This is the object type:int | None', 'type': 'string'}, 'use_rep': {'title': 'Use Rep', 'description': \"Use the indicated representation. `'X'` or any key for `.obsm` is valid.\\nIf `None`, the representation is chosen automatically:\\nFor `.n_vars` < :attr:`~scanpy._settings.ScanpyConfig.N_PCS` (default: 50), `.X` is used, otherwise 'X_pca' is used.\\nIf 'X_pca' is not present, it’s computed with default parameters or `n_pcs` if present.\\n This is the object type:str | None\", 'type': 'string'}, 'var_names': {'title': 'Var Names', 'description': 'List of var_names to use for computing the hierarchical clustering.\\nIf `var_names` is given, then `use_rep` and `n_pcs` is ignored.\\n This is the object type:Sequence[str] | None', 'type': 'string'}, 'use_raw': {'title': 'Use Raw', 'description': 'Only when `var_names` is not None.\\nUse `raw` attribute of `adata` if present.\\n This is the object type:bool | None', 'type': 'string'}, 'cor_method': {'title': 'Cor Method', 'description': \"correlation method to use.\\nOptions are 'pearson', 'kendall', and 'spearman'\\n This is the object type:str\", 'default': 'pearson', 'type': 'string'}, 'linkage_method': {'title': 'Linkage Method', 'description': 'linkage method to use. See :func:`scipy.cluster.hierarchy.linkage`\\nfor more information.\\n This is the object type:str', 'default': 'complete', 'type': 'string'}, 'optimal_ordering': {'title': 'Optimal Ordering', 'description': 'Same as the optimal_ordering argument of :func:`scipy.cluster.hierarchy.linkage`\\nwhich reorders the linkage matrix so that the distance between successive\\nleaves is minimal.\\n This is the object type:bool', 'default': False, 'type': 'string'}, 'key_added': {'title': 'Key Added', 'description': \"By default, the dendrogram information is added to\\n`.uns[f'dendrogram_{groupby}']`.\\nNotice that the `groupby` information is added to the dendrogram.\\n This is the object type:str | None\", 'type': 'string'}, 'inplace': {'title': 'Inplace', 'description': 'If `True`, adds dendrogram information to `adata.uns[key_added]`,\\nelse this function returns the information.\\n This is the object type:bool', 'default': True, 'type': 'string'}}, 'required': ['adata', 'groupby']}\n",
      "{'title': 'diffmap', 'type': 'object', 'properties': {'adata': {'title': 'Adata', 'description': 'Annotated data matrix.\\n This is the object type:AnnData', 'type': 'string'}, 'n_comps': {'title': 'N Comps', 'description': 'The number of dimensions of the representation.\\n This is the object type:int', 'default': 15, 'type': 'string'}, 'neighbors_key': {'title': 'Neighbors Key', 'description': \"If not specified, diffmap looks .uns['neighbors'] for neighbors settings\\nand .obsp['connectivities'], .obsp['distances'] for connectivities and\\ndistances respectively (default storage places for pp.neighbors).\\nIf specified, diffmap looks .uns[neighbors_key] for neighbors settings and\\n.obsp[.uns[neighbors_key]['connectivities_key']],\\n.obsp[.uns[neighbors_key]['distances_key']] for connectivities and distances\\nrespectively.\\n This is the object type:str | None\", 'type': 'string'}, 'random_state': {'title': 'Random State', 'description': 'A numpy random seed\\n This is the object type:AnyRandom', 'default': 0, 'type': 'string'}, 'copy': {'title': 'Copy', 'description': 'Return a copy instead of writing to adata.\\n This is the object type:bool', 'default': False, 'type': 'string'}}, 'required': ['adata']}\n",
      "{'title': 'dpt', 'type': 'object', 'properties': {'adata': {'title': 'Adata', 'description': 'Annotated data matrix.\\n This is the object type:AnnData', 'type': 'string'}, 'n_dcs': {'title': 'N Dcs', 'description': 'The number of diffusion components to use.\\n This is the object type:int', 'default': 10, 'type': 'string'}, 'n_branchings': {'title': 'N Branchings', 'description': 'Number of branchings to detect.\\n This is the object type:int', 'default': 0, 'type': 'string'}, 'min_group_size': {'title': 'Min Group Size', 'description': \"During recursive splitting of branches ('dpt groups') for `n_branchings`\\n> 1, do not consider groups that contain less than `min_group_size` data\\npoints. If a float, `min_group_size` refers to a fraction of the total\\nnumber of data points.\\n This is the object type:float\", 'default': 0.01, 'type': 'string'}, 'allow_kendall_tau_shift': {'title': 'Allow Kendall Tau Shift', 'description': 'If a very small branch is detected upon splitting, shift away from\\nmaximum correlation in Kendall tau criterion of :cite:t:`Haghverdi2016` to\\nstabilize the splitting.\\n This is the object type:bool', 'default': True, 'type': 'string'}, 'neighbors_key': {'title': 'Neighbors Key', 'description': \"If not specified, dpt looks .uns['neighbors'] for neighbors settings\\nand .obsp['connectivities'], .obsp['distances'] for connectivities and\\ndistances respectively (default storage places for pp.neighbors).\\nIf specified, dpt looks .uns[neighbors_key] for neighbors settings and\\n.obsp[.uns[neighbors_key]['connectivities_key']],\\n.obsp[.uns[neighbors_key]['distances_key']] for connectivities and distances\\nrespectively.\\n This is the object type:str | None\", 'type': 'string'}, 'copy': {'title': 'Copy', 'description': 'Copy instance before computation and return a copy.\\nOtherwise, perform computation inplace and return `None`.\\n This is the object type:bool', 'default': False, 'type': 'string'}}, 'required': ['adata']}\n",
      "{'title': 'draw_graph', 'type': 'object', 'properties': {'adata': {'title': 'Adata', 'description': 'Annotated data matrix.\\n This is the object type:AnnData', 'type': 'string'}, 'layout': {'title': 'Layout', 'description': \"'fa' (`ForceAtlas2`) or any valid `igraph layout\\n<https://igraph.org/c/doc/igraph-Layout.html>`__. Of particular interest\\nare 'fr' (Fruchterman Reingold), 'grid_fr' (Grid Fruchterman Reingold,\\nfaster than 'fr'), 'kk' (Kamadi Kawai', slower than 'fr'), 'lgl' (Large\\nGraph, very fast), 'drl' (Distributed Recursive Layout, pretty fast) and\\n'rt' (Reingold Tilford tree layout).\\n This is the object type:_Layout\", 'default': 'fa', 'type': 'string'}, 'init_pos': {'title': 'Init Pos', 'description': \"`'paga'`/`True`, `None`/`False`, or any valid 2d-`.obsm` key.\\nUse precomputed coordinates for initialization.\\nIf `False`/`None` (the default), initialize randomly.\\n This is the object type:str | bool | None\", 'type': 'string'}, 'root': {'title': 'Root', 'description': 'Root for tree layouts.\\n This is the object type:int | None', 'type': 'string'}, 'random_state': {'title': 'Random State', 'description': \"For layouts with random initialization like 'fr', change this to use\\ndifferent intial states for the optimization. If `None`, no seed is set.\\n This is the object type:AnyRandom\", 'default': 0, 'type': 'string'}, 'n_jobs': {'title': 'N Jobs', 'description': 'No description available.\\n This is the object type:int | None', 'type': 'string'}, 'adjacency': {'title': 'Adjacency', 'description': 'Sparse adjacency matrix of the graph, defaults to neighbors connectivities.\\n This is the object type:spmatrix | None', 'type': 'string'}, 'key_added_ext': {'title': 'Key Added Ext', 'description': 'By default, append `layout`.\\n This is the object type:str | None', 'type': 'string'}, 'neighbors_key': {'title': 'Neighbors Key', 'description': \"If not specified, draw_graph looks .obsp['connectivities'] for connectivities\\n(default storage place for pp.neighbors).\\nIf specified, draw_graph looks\\n.obsp[.uns[neighbors_key]['connectivities_key']] for connectivities.\\n This is the object type:str | None\", 'type': 'string'}, 'obsp': {'title': 'Obsp', 'description': \"Use .obsp[obsp] as adjacency. You can't specify both\\n`obsp` and `neighbors_key` at the same time.\\n This is the object type:str | None\", 'type': 'string'}, 'copy': {'title': 'Copy', 'description': 'Return a copy instead of writing to adata.\\n This is the object type:bool', 'default': False, 'type': 'string'}, 'kwds': {'title': 'Kwds', 'description': 'No description available.', 'type': 'string'}}, 'required': ['adata', 'kwds']}\n",
      "{'title': 'embedding_density', 'type': 'object', 'properties': {'adata': {'title': 'Adata', 'description': 'The annotated data matrix.\\n This is the object type:AnnData', 'type': 'string'}, 'basis': {'title': 'Basis', 'description': \"The embedding over which the density will be calculated. This embedded\\nrepresentation should be found in `adata.obsm['X_[basis]']``.\\n This is the object type:str\", 'default': 'umap', 'type': 'string'}, 'groupby': {'title': 'Groupby', 'description': 'Key for categorical observation/cell annotation for which densities\\nare calculated per category.\\n This is the object type:str | None', 'type': 'string'}, 'key_added': {'title': 'Key Added', 'description': 'Name of the `.obs` covariate that will be added with the density\\nestimates.\\n This is the object type:str | None', 'type': 'string'}, 'components': {'title': 'Components', 'description': 'The embedding dimensions over which the density should be calculated.\\nThis is limited to two components.\\n This is the object type:str | Sequence[str] | None', 'type': 'string'}}, 'required': ['adata']}\n",
      "{'title': 'filter_rank_genes_groups', 'type': 'object', 'properties': {'adata': {'title': 'Adata', 'description': 'No description available.\\n This is the object type:AnnData', 'type': 'string'}, 'key': {'title': 'Key', 'description': 'No description available.\\n This is the object type:str | None', 'type': 'string'}, 'groupby': {'title': 'Groupby', 'description': 'No description available.\\n This is the object type:str | None', 'type': 'string'}, 'use_raw': {'title': 'Use Raw', 'description': 'No description available.\\n This is the object type:bool | None', 'type': 'string'}, 'key_added': {'title': 'Key Added', 'description': 'No description available.\\n This is the object type:str', 'default': 'rank_genes_groups_filtered', 'type': 'string'}, 'min_in_group_fraction': {'title': 'Min In Group Fraction', 'description': 'No description available.\\n This is the object type:float', 'default': 0.25, 'type': 'string'}, 'min_fold_change': {'title': 'Min Fold Change', 'description': 'No description available.\\n This is the object type:int | float', 'default': 1, 'type': 'string'}, 'max_out_group_fraction': {'title': 'Max Out Group Fraction', 'description': 'No description available.\\n This is the object type:float', 'default': 0.5, 'type': 'string'}, 'compare_abs': {'title': 'Compare Abs', 'description': 'If `True`, compare absolute values of log fold change with `min_fold_change`.\\n This is the object type:bool', 'default': False, 'type': 'string'}}, 'required': ['adata']}\n",
      "{'title': 'ingest', 'type': 'object', 'properties': {'adata': {'title': 'Adata', 'description': 'The annotated data matrix of shape `n_obs` × `n_vars`. Rows correspond\\nto cells and columns to genes. This is the dataset without labels and\\nembeddings.\\n This is the object type:AnnData', 'type': 'string'}, 'adata_ref': {'title': 'Adata Ref', 'description': 'The annotated data matrix of shape `n_obs` × `n_vars`. Rows correspond\\nto cells and columns to genes.\\nVariables (`n_vars` and `var_names`) of `adata_ref` should be the same\\nas in `adata`.\\nThis is the dataset with labels and embeddings\\nwhich need to be mapped to `adata`.\\n This is the object type:AnnData', 'type': 'string'}, 'obs': {'title': 'Obs', 'description': \"Labels' keys in `adata_ref.obs` which need to be mapped to `adata.obs`\\n(inferred for observation of `adata`).\\n This is the object type:str | Iterable[str] | None\", 'type': 'string'}, 'embedding_method': {'title': 'Embedding Method', 'description': \"Embeddings in `adata_ref` which need to be mapped to `adata`.\\nThe only supported values are 'umap' and 'pca'.\\n This is the object type:str | Iterable[str]\", 'default': ('umap', 'pca'), 'type': 'string'}, 'labeling_method': {'title': 'Labeling Method', 'description': \"The method to map labels in `adata_ref.obs` to `adata.obs`.\\nThe only supported value is 'knn'.\\n This is the object type:str\", 'default': 'knn', 'type': 'string'}, 'neighbors_key': {'title': 'Neighbors Key', 'description': \"If not specified, ingest looks adata_ref.uns['neighbors']\\nfor neighbors settings and adata_ref.obsp['distances'] for\\ndistances (default storage places for pp.neighbors).\\nIf specified, ingest looks adata_ref.uns[neighbors_key] for\\nneighbors settings and\\nadata_ref.obsp[adata_ref.uns[neighbors_key]['distances_key']] for distances.\\n This is the object type:str | None\", 'type': 'string'}, 'inplace': {'title': 'Inplace', 'description': 'Only works if `return_joint=False`.\\nAdd labels and embeddings to the passed `adata` (if `True`)\\nor return a copy of `adata` with mapped embeddings and labels.\\n This is the object type:bool', 'default': True, 'type': 'string'}}, 'required': ['adata', 'adata_ref']}\n",
      "{'title': 'leiden', 'type': 'object', 'properties': {'adata': {'title': 'Adata', 'description': 'The annotated data matrix.\\n This is the object type:AnnData', 'type': 'string'}, 'resolution': {'title': 'Resolution', 'description': 'A parameter value controlling the coarseness of the clustering.\\nHigher values lead to more clusters.\\nSet to `None` if overriding `partition_type`\\nto one that doesn’t accept a `resolution_parameter`.\\n This is the object type:float', 'default': 1, 'type': 'string'}, 'restrict_to': {'title': 'Restrict To', 'description': 'Restrict the clustering to the categories within the key for sample\\nannotation, tuple needs to contain `(obs_key, list_of_categories)`.\\n This is the object type:tuple[str, Sequence[str]] | None', 'type': 'string'}, 'random_state': {'title': 'Random State', 'description': 'Change the initialization of the optimization.\\n This is the object type:_utils.AnyRandom', 'default': 0, 'type': 'string'}, 'key_added': {'title': 'Key Added', 'description': '`adata.obs` key under which to add the cluster labels.\\n This is the object type:str', 'default': 'leiden', 'type': 'string'}, 'adjacency': {'title': 'Adjacency', 'description': 'Sparse adjacency matrix of the graph, defaults to neighbors connectivities.\\n This is the object type:sparse.spmatrix | None', 'type': 'string'}, 'directed': {'title': 'Directed', 'description': 'Whether to treat the graph as directed or undirected.\\n This is the object type:bool | None', 'type': 'string'}, 'use_weights': {'title': 'Use Weights', 'description': 'If `True`, edge weights from the graph are used in the computation\\n(placing more emphasis on stronger edges).\\n This is the object type:bool', 'default': True, 'type': 'string'}, 'n_iterations': {'title': 'N Iterations', 'description': 'How many iterations of the Leiden clustering algorithm to perform.\\nPositive values above 2 define the total number of iterations to perform,\\n-1 has the algorithm run until it reaches its optimal clustering.\\n2 is faster and the default for underlying packages.\\n This is the object type:int', 'default': -1, 'type': 'string'}, 'partition_type': {'title': 'Partition Type', 'description': 'Type of partition to use.\\nDefaults to :class:`~leidenalg.RBConfigurationVertexPartition`.\\nFor the available options, consult the documentation for\\n:func:`~leidenalg.find_partition`.\\n This is the object type:type[MutableVertexPartition] | None', 'type': 'string'}, 'neighbors_key': {'title': 'Neighbors Key', 'description': \"Use neighbors connectivities as adjacency.\\nIf not specified, leiden looks .obsp['connectivities'] for connectivities\\n(default storage place for pp.neighbors).\\nIf specified, leiden looks\\n.obsp[.uns[neighbors_key]['connectivities_key']] for connectivities.\\n This is the object type:str | None\", 'type': 'string'}, 'obsp': {'title': 'Obsp', 'description': \"Use .obsp[obsp] as adjacency. You can't specify both\\n`obsp` and `neighbors_key` at the same time.\\n This is the object type:str | None\", 'type': 'string'}, 'copy': {'title': 'Copy', 'description': 'Whether to copy `adata` or modify it inplace.\\n This is the object type:bool', 'default': False, 'type': 'string'}, 'flavor': {'title': 'Flavor', 'description': \"Which package's implementation to use.\\n This is the object type:Literal['leidenalg', 'igraph']\", 'default': 'leidenalg', 'type': 'string'}, 'clustering_args': {'title': 'Clustering Args', 'description': 'No description available.', 'type': 'string'}}, 'required': ['adata', 'clustering_args']}\n",
      "{'title': 'louvain', 'type': 'object', 'properties': {'adata': {'title': 'Adata', 'description': 'The annotated data matrix.\\n This is the object type:AnnData', 'type': 'string'}, 'resolution': {'title': 'Resolution', 'description': \"For the default flavor (``'vtraag'``) or for ```RAPIDS```, you can provide a\\nresolution (higher resolution means finding more and smaller clusters),\\nwhich defaults to 1.0.\\nSee “Time as a resolution parameter” in :cite:t:`Lambiotte2014`.\\n This is the object type:float | None\", 'type': 'string'}, 'random_state': {'title': 'Random State', 'description': 'Change the initialization of the optimization.\\n This is the object type:_utils.AnyRandom', 'default': 0, 'type': 'string'}, 'restrict_to': {'title': 'Restrict To', 'description': 'Restrict the clustering to the categories within the key for sample\\nannotation, tuple needs to contain ``(obs_key, list_of_categories)``.\\n This is the object type:tuple[str, Sequence[str]] | None', 'type': 'string'}, 'key_added': {'title': 'Key Added', 'description': \"Key under which to add the cluster labels. (default: ``'louvain'``)\\n This is the object type:str\", 'default': 'louvain', 'type': 'string'}, 'adjacency': {'title': 'Adjacency', 'description': 'Sparse adjacency matrix of the graph, defaults to neighbors connectivities.\\n This is the object type:spmatrix | None', 'type': 'string'}, 'flavor': {'title': 'Flavor', 'description': \"Choose between to packages for computing the clustering.\\n\\n``'vtraag'``\\n    Much more powerful than ``'igraph'``, and the default.\\n``'igraph'``\\n    Built in ``igraph`` method.\\n``'rapids'``\\n    GPU accelerated implementation.\\n\\n    .. deprecated:: 1.10.0\\n        Use :func:`rapids_singlecell.tl.louvain` instead.\\n This is the object type:Literal['vtraag', 'igraph', 'rapids']\", 'default': 'vtraag', 'type': 'string'}, 'directed': {'title': 'Directed', 'description': 'Interpret the ``adjacency`` matrix as directed graph?\\n This is the object type:bool', 'default': True, 'type': 'string'}, 'use_weights': {'title': 'Use Weights', 'description': 'Use weights from knn graph.\\n This is the object type:bool', 'default': False, 'type': 'string'}, 'partition_type': {'title': 'Partition Type', 'description': \"Type of partition to use.\\nOnly a valid argument if ``flavor`` is ``'vtraag'``.\\n This is the object type:type[MutableVertexPartition] | None\", 'type': 'string'}, 'partition_kwargs': {'title': 'Partition Kwargs', 'description': 'Key word arguments to pass to partitioning,\\nif ``vtraag`` method is being used.\\n This is the object type:Mapping[str, Any]', 'default': {}, 'type': 'string'}, 'neighbors_key': {'title': 'Neighbors Key', 'description': \"Use neighbors connectivities as adjacency.\\nIf not specified, louvain looks .obsp['connectivities'] for connectivities\\n(default storage place for pp.neighbors).\\nIf specified, louvain looks\\n.obsp[.uns[neighbors_key]['connectivities_key']] for connectivities.\\n This is the object type:str | None\", 'type': 'string'}, 'obsp': {'title': 'Obsp', 'description': \"Use .obsp[obsp] as adjacency. You can't specify both\\n`obsp` and `neighbors_key` at the same time.\\n This is the object type:str | None\", 'type': 'string'}, 'copy': {'title': 'Copy', 'description': 'Copy adata or modify it inplace.\\n This is the object type:bool', 'default': False, 'type': 'string'}}, 'required': ['adata']}\n",
      "{'title': 'marker_gene_overlap', 'type': 'object', 'properties': {'adata': {'title': 'Adata', 'description': 'The annotated data matrix.\\n This is the object type:AnnData', 'type': 'string'}, 'reference_markers': {'title': 'Reference Markers', 'description': 'A marker gene dictionary object. Keys should be strings with the\\ncell identity name and values are sets or lists of strings which match\\nformat of `adata.var_name`.\\n This is the object type:dict[str, set] | dict[str, list]', 'type': 'string'}, 'key': {'title': 'Key', 'description': \"The key in `adata.uns` where the rank_genes_groups output is stored.\\nBy default this is `'rank_genes_groups'`.\\n This is the object type:str\", 'default': 'rank_genes_groups', 'type': 'string'}, 'method': {'title': 'Method', 'description': \"(default: `overlap_count`)\\nMethod to calculate marker gene overlap. `'overlap_count'` uses the\\nintersection of the gene set, `'overlap_coef'` uses the overlap\\ncoefficient, and `'jaccard'` uses the Jaccard index.\\n This is the object type:_Method\", 'default': 'overlap_count', 'type': 'string'}, 'normalize': {'title': 'Normalize', 'description': \"Normalization option for the marker gene overlap output. This parameter\\ncan only be set when `method` is set to `'overlap_count'`. `'reference'`\\nnormalizes the data by the total number of marker genes given in the\\nreference annotation per group. `'data'` normalizes the data by the\\ntotal number of marker genes used for each cluster.\\n This is the object type:Literal['reference', 'data'] | None\", 'type': 'string'}, 'top_n_markers': {'title': 'Top N Markers', 'description': 'The number of top data-derived marker genes to use. By default the top\\n100 marker genes are used. If `adj_pval_threshold` is set along with\\n`top_n_markers`, then `adj_pval_threshold` is ignored.\\n This is the object type:int | None', 'type': 'string'}, 'adj_pval_threshold': {'title': 'Adj Pval Threshold', 'description': 'A significance threshold on the adjusted p-values to select marker\\ngenes. This can only be used when adjusted p-values are calculated by\\n`sc.tl.rank_genes_groups()`. If `adj_pval_threshold` is set along with\\n`top_n_markers`, then `adj_pval_threshold` is ignored.\\n This is the object type:float | None', 'type': 'string'}, 'key_added': {'title': 'Key Added', 'description': 'Name of the `.uns` field that will contain the marker overlap scores.\\n This is the object type:str', 'default': 'marker_gene_overlap', 'type': 'string'}, 'inplace': {'title': 'Inplace', 'description': 'Return a marker gene dataframe or store it inplace in `adata.uns`.\\n This is the object type:bool', 'default': False, 'type': 'string'}}, 'required': ['adata', 'reference_markers']}\n",
      "{'title': 'paga', 'type': 'object', 'properties': {'adata': {'title': 'Adata', 'description': 'An annotated data matrix.\\n This is the object type:AnnData', 'type': 'string'}, 'groups': {'title': 'Groups', 'description': \"Key for categorical in `adata.obs`. You can pass your predefined groups\\nby choosing any categorical annotation of observations. Default:\\nThe first present key of `'leiden'` or `'louvain'`.\\n This is the object type:str | None\", 'type': 'string'}, 'use_rna_velocity': {'title': 'Use Rna Velocity', 'description': \"Use RNA velocity to orient edges in the abstracted graph and estimate\\ntransitions. Requires that `adata.uns` contains a directed single-cell\\ngraph with key `['velocity_graph']`. This feature might be subject\\nto change in the future.\\n This is the object type:bool\", 'default': False, 'type': 'string'}, 'model': {'title': 'Model', 'description': \"The PAGA connectivity model.\\n This is the object type:Literal['v1.2', 'v1.0']\", 'default': 'v1.2', 'type': 'string'}, 'neighbors_key': {'title': 'Neighbors Key', 'description': \"If not specified, paga looks `.uns['neighbors']` for neighbors settings\\nand `.obsp['connectivities']`, `.obsp['distances']` for connectivities and\\ndistances respectively (default storage places for `pp.neighbors`).\\nIf specified, paga looks `.uns[neighbors_key]` for neighbors settings and\\n`.obsp[.uns[neighbors_key]['connectivities_key']]`,\\n`.obsp[.uns[neighbors_key]['distances_key']]` for connectivities and distances\\nrespectively.\\n This is the object type:str | None\", 'type': 'string'}, 'copy': {'title': 'Copy', 'description': 'Copy `adata` before computation and return a copy. Otherwise, perform\\ncomputation inplace and return `None`.\\n This is the object type:bool', 'default': False, 'type': 'string'}}, 'required': ['adata']}\n",
      "{'title': 'paga_compare_paths', 'type': 'object', 'properties': {'adata1': {'title': 'Adata1', 'description': 'No description available.\\n This is the object type:AnnData', 'type': 'string'}, 'adata2': {'title': 'Adata2', 'description': 'No description available.\\n This is the object type:AnnData', 'type': 'string'}, 'adjacency_key': {'title': 'Adjacency Key', 'description': \"Key for indexing the adjacency matrices in `.uns['paga']` to be used in\\nadata1 and adata2.\\n This is the object type:str\", 'default': 'connectivities', 'type': 'string'}, 'adjacency_key2': {'title': 'Adjacency Key2', 'description': 'If provided, used for adata2.\\n This is the object type:str | None', 'type': 'string'}}, 'required': ['adata1', 'adata2']}\n",
      "{'title': 'paga_degrees', 'type': 'object', 'properties': {'adata': {'title': 'Adata', 'description': 'Annotated data matrix.\\n This is the object type:AnnData', 'type': 'string'}}, 'required': ['adata']}\n",
      "{'title': 'paga_expression_entropies', 'type': 'object', 'properties': {'adata': {'title': 'Adata', 'description': 'Annotated data matrix.\\n This is the object type:AnnData', 'type': 'string'}}, 'required': ['adata']}\n",
      "{'title': 'rank_genes_groups', 'type': 'object', 'properties': {'adata': {'title': 'Adata', 'description': 'Annotated data matrix.\\n This is the object type:AnnData', 'type': 'string'}, 'groupby': {'title': 'Groupby', 'description': 'The key of the observations grouping to consider.\\n This is the object type:str', 'type': 'string'}, 'mask_var': {'title': 'Mask Var', 'description': 'Select subset of genes to use in statistical tests.\\n This is the object type:NDArray[np.bool_] | str | None', 'type': 'string'}, 'use_raw': {'title': 'Use Raw', 'description': 'Use `raw` attribute of `adata` if present.\\n This is the object type:bool | None', 'type': 'string'}, 'groups': {'title': 'Groups', 'description': \"Subset of groups, e.g. [`'g1'`, `'g2'`, `'g3'`], to which comparison\\nshall be restricted, or `'all'` (default), for all groups. Note that if\\n`reference='rest'` all groups will still be used as the reference, not\\njust those specified in `groups`.\\n This is the object type:Literal['all'] | Iterable[str]\", 'default': 'all', 'type': 'string'}, 'reference': {'title': 'Reference', 'description': \"If `'rest'`, compare each group to the union of the rest of the group.\\nIf a group identifier, compare with respect to this group.\\n This is the object type:str\", 'default': 'rest', 'type': 'string'}, 'n_genes': {'title': 'N Genes', 'description': 'The number of genes that appear in the returned tables.\\nDefaults to all genes.\\n This is the object type:int | None', 'type': 'string'}, 'rankby_abs': {'title': 'Rankby Abs', 'description': 'Rank genes by the absolute value of the score, not by the\\nscore. The returned scores are never the absolute values.\\n This is the object type:bool', 'default': False, 'type': 'string'}, 'pts': {'title': 'Pts', 'description': 'Compute the fraction of cells expressing the genes.\\n This is the object type:bool', 'default': False, 'type': 'string'}, 'key_added': {'title': 'Key Added', 'description': 'The key in `adata.uns` information is saved to.\\n This is the object type:str | None', 'type': 'string'}, 'copy': {'title': 'Copy', 'description': 'Whether to copy `adata` or modify it inplace.\\n This is the object type:bool', 'default': False, 'type': 'string'}, 'method': {'title': 'Method', 'description': \"The default method is `'t-test'`,\\n`'t-test_overestim_var'` overestimates variance of each group,\\n`'wilcoxon'` uses Wilcoxon rank-sum,\\n`'logreg'` uses logistic regression. See :cite:t:`Ntranos2019`,\\n`here <https://github.com/scverse/scanpy/issues/95>`__ and `here\\n<https://www.nxn.se/valent/2018/3/5/actionable-scrna-seq-clusters>`__,\\nfor why this is meaningful.\\n This is the object type:_Method | None\", 'type': 'string'}, 'corr_method': {'title': 'Corr Method', 'description': \"p-value correction method.\\nUsed only for `'t-test'`, `'t-test_overestim_var'`, and `'wilcoxon'`.\\n This is the object type:_CorrMethod\", 'default': 'benjamini-hochberg', 'type': 'string'}, 'tie_correct': {'title': 'Tie Correct', 'description': \"Use tie correction for `'wilcoxon'` scores.\\nUsed only for `'wilcoxon'`.\\n This is the object type:bool\", 'default': False, 'type': 'string'}, 'layer': {'title': 'Layer', 'description': 'Key from `adata.layers` whose value will be used to perform tests on.\\n This is the object type:str | None', 'type': 'string'}, 'kwds': {'title': 'Kwds', 'description': \"Are passed to test methods. Currently this affects only parameters that\\nare passed to :class:`sklearn.linear_model.LogisticRegression`.\\nFor instance, you can pass `penalty='l1'` to try to come up with a\\nminimal set of genes that are good predictors (sparse solution meaning\\nfew non-zero fitted coefficients).\", 'type': 'string'}}, 'required': ['adata', 'groupby', 'kwds']}\n",
      "{'title': 'score_genes', 'type': 'object', 'properties': {'adata': {'title': 'Adata', 'description': 'The annotated data matrix.\\n This is the object type:AnnData', 'type': 'string'}, 'gene_list': {'title': 'Gene List', 'description': 'The list of gene names used for score calculation.\\n This is the object type:Sequence[str] | pd.Index[str]', 'type': 'string'}, 'ctrl_as_ref': {'title': 'Ctrl As Ref', 'description': 'Allow the algorithm to use the control genes as reference.\\nWill be changed to `False` in scanpy 2.0.\\n This is the object type:bool', 'default': True, 'type': 'string'}, 'ctrl_size': {'title': 'Ctrl Size', 'description': 'Number of reference genes to be sampled from each bin. If `len(gene_list)` is not too\\nlow, you can set `ctrl_size=len(gene_list)`.\\n This is the object type:int', 'default': 50, 'type': 'string'}, 'gene_pool': {'title': 'Gene Pool', 'description': 'Genes for sampling the reference set. Default is all genes.\\n This is the object type:Sequence[str] | pd.Index[str] | None', 'type': 'string'}, 'n_bins': {'title': 'N Bins', 'description': 'Number of expression level bins for sampling.\\n This is the object type:int', 'default': 25, 'type': 'string'}, 'score_name': {'title': 'Score Name', 'description': 'Name of the field to be added in `.obs`.\\n This is the object type:str', 'default': 'score', 'type': 'string'}, 'random_state': {'title': 'Random State', 'description': 'The random seed for sampling.\\n This is the object type:AnyRandom', 'default': 0, 'type': 'string'}, 'copy': {'title': 'Copy', 'description': 'Copy `adata` or modify it inplace.\\n This is the object type:bool', 'default': False, 'type': 'string'}, 'use_raw': {'title': 'Use Raw', 'description': 'Whether to use `raw` attribute of `adata`. Defaults to `True` if `.raw` is present.\\n\\n.. versionchanged:: 1.4.5\\n   Default value changed from `False` to `None`.\\n This is the object type:bool | None', 'type': 'string'}}, 'required': ['adata', 'gene_list']}\n",
      "{'title': 'score_genes_cell_cycle', 'type': 'object', 'properties': {'adata': {'title': 'Adata', 'description': 'The annotated data matrix.\\n This is the object type:AnnData', 'type': 'string'}, 's_genes': {'title': 'S Genes', 'description': 'List of genes associated with S phase.\\n This is the object type:Sequence[str]', 'type': 'string'}, 'g2m_genes': {'title': 'G2M Genes', 'description': 'List of genes associated with G2M phase.\\n This is the object type:Sequence[str]', 'type': 'string'}, 'copy': {'title': 'Copy', 'description': 'Copy `adata` or modify it inplace.\\n This is the object type:bool', 'default': False, 'type': 'string'}}, 'required': ['adata', 's_genes', 'g2m_genes']}\n",
      "{'title': 'sim', 'type': 'object', 'properties': {'model': {'title': 'Model', 'description': \"Model file in 'sim_models' directory.\\n This is the object type:Literal['krumsiek11', 'toggleswitch']\", 'type': 'string'}, 'params_file': {'title': 'Params File', 'description': 'Read default params from file.\\n This is the object type:bool', 'default': True, 'type': 'string'}, 'tmax': {'title': 'Tmax', 'description': 'Number of time steps per realization of time series.\\n This is the object type:int | None', 'type': 'string'}, 'branching': {'title': 'Branching', 'description': 'Only write realizations that contain new branches.\\n This is the object type:bool | None', 'type': 'string'}, 'nrRealizations': {'title': 'Nrrealizations', 'description': 'Number of realizations.\\n This is the object type:int | None', 'type': 'string'}, 'noiseObs': {'title': 'Noiseobs', 'description': 'Observatory/Measurement noise.\\n This is the object type:float | None', 'type': 'string'}, 'noiseDyn': {'title': 'Noisedyn', 'description': 'Dynamic noise.\\n This is the object type:float | None', 'type': 'string'}, 'step': {'title': 'Step', 'description': 'Interval for saving state of system.\\n This is the object type:int | None', 'type': 'string'}, 'seed': {'title': 'Seed', 'description': 'Seed for generation of random numbers.\\n This is the object type:int | None', 'type': 'string'}, 'writedir': {'title': 'Writedir', 'description': 'Path to directory for writing output files.\\n This is the object type:Path | str | None', 'type': 'string'}}, 'required': ['model']}\n",
      "{'title': 'tsne', 'type': 'object', 'properties': {'adata': {'title': 'Adata', 'description': 'Annotated data matrix.\\n This is the object type:AnnData', 'type': 'string'}, 'n_pcs': {'title': 'N Pcs', 'description': 'Use this many PCs. If `n_pcs==0` use `.X` if `use_rep is None`.\\n This is the object type:int | None', 'type': 'string'}, 'use_rep': {'title': 'Use Rep', 'description': \"Use the indicated representation. `'X'` or any key for `.obsm` is valid.\\nIf `None`, the representation is chosen automatically:\\nFor `.n_vars` < :attr:`~scanpy._settings.ScanpyConfig.N_PCS` (default: 50), `.X` is used, otherwise 'X_pca' is used.\\nIf 'X_pca' is not present, it’s computed with default parameters or `n_pcs` if present.\\n This is the object type:str | None\", 'type': 'string'}, 'perplexity': {'title': 'Perplexity', 'description': 'The perplexity is related to the number of nearest neighbors that\\nis used in other manifold learning algorithms. Larger datasets\\nusually require a larger perplexity. Consider selecting a value\\nbetween 5 and 50. The choice is not extremely critical since t-SNE\\nis quite insensitive to this parameter.\\n This is the object type:float | int', 'default': 30, 'type': 'string'}, 'metric': {'title': 'Metric', 'description': 'Distance metric calculate neighbors on.\\n This is the object type:str', 'default': 'euclidean', 'type': 'string'}, 'early_exaggeration': {'title': 'Early Exaggeration', 'description': 'Controls how tight natural clusters in the original space are in the\\nembedded space and how much space will be between them. For larger\\nvalues, the space between natural clusters will be larger in the\\nembedded space. Again, the choice of this parameter is not very\\ncritical. If the cost function increases during initial optimization,\\nthe early exaggeration factor or the learning rate might be too high.\\n This is the object type:float | int', 'default': 12, 'type': 'string'}, 'learning_rate': {'title': 'Learning Rate', 'description': 'Note that the R-package \"Rtsne\" uses a default of 200.\\nThe learning rate can be a critical parameter. It should be\\nbetween 100 and 1000. If the cost function increases during initial\\noptimization, the early exaggeration factor or the learning rate\\nmight be too high. If the cost function gets stuck in a bad local\\nminimum increasing the learning rate helps sometimes.\\n This is the object type:float | int', 'default': 1000, 'type': 'string'}, 'random_state': {'title': 'Random State', 'description': 'Change this to use different intial states for the optimization.\\nIf `None`, the initial state is not reproducible.\\n This is the object type:AnyRandom', 'default': 0, 'type': 'string'}, 'use_fast_tsne': {'title': 'Use Fast Tsne', 'description': 'No description available.\\n This is the object type:bool', 'default': False, 'type': 'string'}, 'n_jobs': {'title': 'N Jobs', 'description': 'Number of jobs for parallel computation.\\n`None` means using :attr:`scanpy._settings.ScanpyConfig.n_jobs`.\\n This is the object type:int | None', 'type': 'string'}, 'copy': {'title': 'Copy', 'description': 'Return a copy instead of writing to `adata`.\\n This is the object type:bool', 'default': False, 'type': 'string'}}, 'required': ['adata']}\n",
      "{'title': 'umap', 'type': 'object', 'properties': {'adata': {'title': 'Adata', 'description': 'Annotated data matrix.\\n This is the object type:AnnData', 'type': 'string'}, 'min_dist': {'title': 'Min Dist', 'description': 'The effective minimum distance between embedded points. Smaller values\\nwill result in a more clustered/clumped embedding where nearby points on\\nthe manifold are drawn closer together, while larger values will result\\non a more even dispersal of points. The value should be set relative to\\nthe ``spread`` value, which determines the scale at which embedded\\npoints will be spread out. The default of in the `umap-learn` package is\\n0.1.\\n This is the object type:float', 'default': 0.5, 'type': 'string'}, 'spread': {'title': 'Spread', 'description': 'The effective scale of embedded points. In combination with `min_dist`\\nthis determines how clustered/clumped the embedded points are.\\n This is the object type:float', 'default': 1.0, 'type': 'string'}, 'n_components': {'title': 'N Components', 'description': 'The number of dimensions of the embedding.\\n This is the object type:int', 'default': 2, 'type': 'string'}, 'maxiter': {'title': 'Maxiter', 'description': 'The number of iterations (epochs) of the optimization. Called `n_epochs`\\nin the original UMAP.\\n This is the object type:int | None', 'type': 'string'}, 'alpha': {'title': 'Alpha', 'description': 'The initial learning rate for the embedding optimization.\\n This is the object type:float', 'default': 1.0, 'type': 'string'}, 'gamma': {'title': 'Gamma', 'description': 'Weighting applied to negative samples in low dimensional embedding\\noptimization. Values higher than one will result in greater weight\\nbeing given to negative samples.\\n This is the object type:float', 'default': 1.0, 'type': 'string'}, 'negative_sample_rate': {'title': 'Negative Sample Rate', 'description': 'The number of negative edge/1-simplex samples to use per positive\\nedge/1-simplex sample in optimizing the low dimensional embedding.\\n This is the object type:int', 'default': 5, 'type': 'string'}, 'init_pos': {'title': 'Init Pos', 'description': \"How to initialize the low dimensional embedding. Called `init` in the\\noriginal UMAP. Options are:\\n\\n* Any key for `adata.obsm`.\\n* 'paga': positions from :func:`~scanpy.pl.paga`.\\n* 'spectral': use a spectral embedding of the graph.\\n* 'random': assign initial embedding positions at random.\\n* A numpy array of initial embedding positions.\\n This is the object type:_InitPos | np.ndarray | None\", 'default': 'spectral', 'type': 'string'}, 'random_state': {'title': 'Random State', 'description': 'If `int`, `random_state` is the seed used by the random number generator;\\nIf `RandomState` or `Generator`, `random_state` is the random number generator;\\nIf `None`, the random number generator is the `RandomState` instance used\\nby `np.random`.\\n This is the object type:AnyRandom', 'default': 0, 'type': 'string'}, 'a': {'title': 'A', 'description': 'More specific parameters controlling the embedding. If `None` these\\nvalues are set automatically as determined by `min_dist` and\\n`spread`.\\n This is the object type:float | None', 'type': 'string'}, 'b': {'title': 'B', 'description': 'More specific parameters controlling the embedding. If `None` these\\nvalues are set automatically as determined by `min_dist` and\\n`spread`.\\n This is the object type:float | None', 'type': 'string'}, 'method': {'title': 'Method', 'description': \"Chosen implementation.\\n\\n``'umap'``\\n    Umap’s simplical set embedding.\\n``'rapids'``\\n    GPU accelerated implementation.\\n\\n    .. deprecated:: 1.10.0\\n        Use :func:`rapids_singlecell.tl.umap` instead.\\n This is the object type:Literal['umap', 'rapids']\", 'default': 'umap', 'type': 'string'}, 'neighbors_key': {'title': 'Neighbors Key', 'description': \"Umap looks in\\n:attr:`~anndata.AnnData.uns`\\\\ ``[neighbors_key]`` for neighbors settings and\\n:attr:`~anndata.AnnData.obsp`\\\\ ``[.uns[neighbors_key]['connectivities_key']]`` for connectivities.\\n This is the object type:str\", 'default': 'neighbors', 'type': 'string'}, 'copy': {'title': 'Copy', 'description': 'Return a copy instead of writing to adata.\\n This is the object type:bool', 'default': False, 'type': 'string'}}, 'required': ['adata']}\n"
     ]
    }
   ],
   "source": [
    "#include sys path of functions\n",
    "import sys\n",
    "sys.path.append(\"..\")\n"
   ]
  },
  {
   "cell_type": "markdown",
   "id": "f7ee9254-f7a8-4c41-bc59-2a4b0d3c47f0",
   "metadata": {
    "jp-MarkdownHeadingCollapsed": true
   },
   "source": [
    "# Preprocessing PP"
   ]
  },
  {
   "cell_type": "code",
   "execution_count": 37,
   "id": "8d30a7d2",
   "metadata": {},
   "outputs": [],
   "source": [
    "# Get the pydantic classes for all the methods in scanpy.pp\n",
    "from functions.autogenerate_with_defaults_and_method_name import generate_pydantic_classes\n",
    "#from functions.og_autogenerate_func import generate_pydantic_classes\n",
    "generated_classes = generate_pydantic_classes(sc.pp)"
   ]
  },
  {
   "cell_type": "code",
   "execution_count": 39,
   "id": "7d66fd49",
   "metadata": {},
   "outputs": [],
   "source": [
    "from langchain_openai import ChatOpenAI\n",
    "from langchain_core.output_parsers import PydanticToolsParser\n",
    "\n",
    "llm = ChatOpenAI(model=\"gpt-4-turbo\", temperature=0)\n",
    "llm_with_tools = llm.bind_tools(generated_classes)\n",
    "chain = llm_with_tools | PydanticToolsParser(tools=generated_classes)"
   ]
  },
  {
   "cell_type": "markdown",
   "id": "bcf50190-5aa9-4f39-8fc3-58d1a8d6735c",
   "metadata": {},
   "source": [
    "#### Mark mitochondrial genes to use for QC\n",
    "\n",
    "Expected code snippet:\n",
    "\n",
    "`adata.var[\"mt\"] = adata.var_names.str.startswith(\"MT-\")`"
   ]
  },
  {
   "cell_type": "code",
   "execution_count": 25,
   "id": "f647a646",
   "metadata": {},
   "outputs": [
    {
     "ename": "KeyboardInterrupt",
     "evalue": "",
     "output_type": "error",
     "traceback": [
      "\u001b[1;31m---------------------------------------------------------------------------\u001b[0m",
      "\u001b[1;31mKeyboardInterrupt\u001b[0m                         Traceback (most recent call last)",
      "Cell \u001b[1;32mIn[25], line 6\u001b[0m\n\u001b[0;32m      1\u001b[0m query \u001b[38;5;241m=\u001b[39m [\n\u001b[0;32m      2\u001b[0m \t(\u001b[38;5;124m\"\u001b[39m\u001b[38;5;124msystem\u001b[39m\u001b[38;5;124m\"\u001b[39m, \u001b[38;5;124m\"\u001b[39m\u001b[38;5;124mYou\u001b[39m\u001b[38;5;124m'\u001b[39m\u001b[38;5;124mre an expert data scientist\u001b[39m\u001b[38;5;124m\"\u001b[39m), \n\u001b[0;32m      3\u001b[0m \t(\u001b[38;5;124m\"\u001b[39m\u001b[38;5;124mhuman\u001b[39m\u001b[38;5;124m\"\u001b[39m, \u001b[38;5;124m\"\u001b[39m\u001b[38;5;124mI want to mark mitochondrial genes of my adata object by checking the basic strings in var_names\u001b[39m\u001b[38;5;124m\"\u001b[39m),\n\u001b[0;32m      4\u001b[0m ]\n\u001b[0;32m      5\u001b[0m chain \u001b[38;5;241m=\u001b[39m llm_with_tools \u001b[38;5;241m|\u001b[39m PydanticToolsParser(tools\u001b[38;5;241m=\u001b[39mgenerated_classes)\n\u001b[1;32m----> 6\u001b[0m result \u001b[38;5;241m=\u001b[39m \u001b[43mchain\u001b[49m\u001b[38;5;241;43m.\u001b[39;49m\u001b[43minvoke\u001b[49m\u001b[43m(\u001b[49m\u001b[43mquery\u001b[49m\u001b[43m)\u001b[49m\n\u001b[0;32m      7\u001b[0m result\n",
      "File \u001b[1;32mc:\\Users\\mengerj\\repos\\scverse-x-biochatter\\venv\\lib\\site-packages\\langchain_core\\runnables\\base.py:2877\u001b[0m, in \u001b[0;36mRunnableSequence.invoke\u001b[1;34m(self, input, config, **kwargs)\u001b[0m\n\u001b[0;32m   2875\u001b[0m context\u001b[38;5;241m.\u001b[39mrun(_set_config_context, config)\n\u001b[0;32m   2876\u001b[0m \u001b[38;5;28;01mif\u001b[39;00m i \u001b[38;5;241m==\u001b[39m \u001b[38;5;241m0\u001b[39m:\n\u001b[1;32m-> 2877\u001b[0m     \u001b[38;5;28minput\u001b[39m \u001b[38;5;241m=\u001b[39m context\u001b[38;5;241m.\u001b[39mrun(step\u001b[38;5;241m.\u001b[39minvoke, \u001b[38;5;28minput\u001b[39m, config, \u001b[38;5;241m*\u001b[39m\u001b[38;5;241m*\u001b[39mkwargs)\n\u001b[0;32m   2878\u001b[0m \u001b[38;5;28;01melse\u001b[39;00m:\n\u001b[0;32m   2879\u001b[0m     \u001b[38;5;28minput\u001b[39m \u001b[38;5;241m=\u001b[39m context\u001b[38;5;241m.\u001b[39mrun(step\u001b[38;5;241m.\u001b[39minvoke, \u001b[38;5;28minput\u001b[39m, config)\n",
      "File \u001b[1;32mc:\\Users\\mengerj\\repos\\scverse-x-biochatter\\venv\\lib\\site-packages\\langchain_core\\runnables\\base.py:5093\u001b[0m, in \u001b[0;36mRunnableBindingBase.invoke\u001b[1;34m(self, input, config, **kwargs)\u001b[0m\n\u001b[0;32m   5087\u001b[0m \u001b[38;5;28;01mdef\u001b[39;00m \u001b[38;5;21minvoke\u001b[39m(\n\u001b[0;32m   5088\u001b[0m     \u001b[38;5;28mself\u001b[39m,\n\u001b[0;32m   5089\u001b[0m     \u001b[38;5;28minput\u001b[39m: Input,\n\u001b[0;32m   5090\u001b[0m     config: Optional[RunnableConfig] \u001b[38;5;241m=\u001b[39m \u001b[38;5;28;01mNone\u001b[39;00m,\n\u001b[0;32m   5091\u001b[0m     \u001b[38;5;241m*\u001b[39m\u001b[38;5;241m*\u001b[39mkwargs: Optional[Any],\n\u001b[0;32m   5092\u001b[0m ) \u001b[38;5;241m-\u001b[39m\u001b[38;5;241m>\u001b[39m Output:\n\u001b[1;32m-> 5093\u001b[0m     \u001b[38;5;28;01mreturn\u001b[39;00m \u001b[38;5;28mself\u001b[39m\u001b[38;5;241m.\u001b[39mbound\u001b[38;5;241m.\u001b[39minvoke(\n\u001b[0;32m   5094\u001b[0m         \u001b[38;5;28minput\u001b[39m,\n\u001b[0;32m   5095\u001b[0m         \u001b[38;5;28mself\u001b[39m\u001b[38;5;241m.\u001b[39m_merge_configs(config),\n\u001b[0;32m   5096\u001b[0m         \u001b[38;5;241m*\u001b[39m\u001b[38;5;241m*\u001b[39m{\u001b[38;5;241m*\u001b[39m\u001b[38;5;241m*\u001b[39m\u001b[38;5;28mself\u001b[39m\u001b[38;5;241m.\u001b[39mkwargs, \u001b[38;5;241m*\u001b[39m\u001b[38;5;241m*\u001b[39mkwargs},\n\u001b[0;32m   5097\u001b[0m     )\n",
      "File \u001b[1;32mc:\\Users\\mengerj\\repos\\scverse-x-biochatter\\venv\\lib\\site-packages\\langchain_core\\language_models\\chat_models.py:277\u001b[0m, in \u001b[0;36mBaseChatModel.invoke\u001b[1;34m(self, input, config, stop, **kwargs)\u001b[0m\n\u001b[0;32m    266\u001b[0m \u001b[38;5;28;01mdef\u001b[39;00m \u001b[38;5;21minvoke\u001b[39m(\n\u001b[0;32m    267\u001b[0m     \u001b[38;5;28mself\u001b[39m,\n\u001b[0;32m    268\u001b[0m     \u001b[38;5;28minput\u001b[39m: LanguageModelInput,\n\u001b[1;32m   (...)\u001b[0m\n\u001b[0;32m    272\u001b[0m     \u001b[38;5;241m*\u001b[39m\u001b[38;5;241m*\u001b[39mkwargs: Any,\n\u001b[0;32m    273\u001b[0m ) \u001b[38;5;241m-\u001b[39m\u001b[38;5;241m>\u001b[39m BaseMessage:\n\u001b[0;32m    274\u001b[0m     config \u001b[38;5;241m=\u001b[39m ensure_config(config)\n\u001b[0;32m    275\u001b[0m     \u001b[38;5;28;01mreturn\u001b[39;00m cast(\n\u001b[0;32m    276\u001b[0m         ChatGeneration,\n\u001b[1;32m--> 277\u001b[0m         \u001b[38;5;28mself\u001b[39m\u001b[38;5;241m.\u001b[39mgenerate_prompt(\n\u001b[0;32m    278\u001b[0m             [\u001b[38;5;28mself\u001b[39m\u001b[38;5;241m.\u001b[39m_convert_input(\u001b[38;5;28minput\u001b[39m)],\n\u001b[0;32m    279\u001b[0m             stop\u001b[38;5;241m=\u001b[39mstop,\n\u001b[0;32m    280\u001b[0m             callbacks\u001b[38;5;241m=\u001b[39mconfig\u001b[38;5;241m.\u001b[39mget(\u001b[38;5;124m\"\u001b[39m\u001b[38;5;124mcallbacks\u001b[39m\u001b[38;5;124m\"\u001b[39m),\n\u001b[0;32m    281\u001b[0m             tags\u001b[38;5;241m=\u001b[39mconfig\u001b[38;5;241m.\u001b[39mget(\u001b[38;5;124m\"\u001b[39m\u001b[38;5;124mtags\u001b[39m\u001b[38;5;124m\"\u001b[39m),\n\u001b[0;32m    282\u001b[0m             metadata\u001b[38;5;241m=\u001b[39mconfig\u001b[38;5;241m.\u001b[39mget(\u001b[38;5;124m\"\u001b[39m\u001b[38;5;124mmetadata\u001b[39m\u001b[38;5;124m\"\u001b[39m),\n\u001b[0;32m    283\u001b[0m             run_name\u001b[38;5;241m=\u001b[39mconfig\u001b[38;5;241m.\u001b[39mget(\u001b[38;5;124m\"\u001b[39m\u001b[38;5;124mrun_name\u001b[39m\u001b[38;5;124m\"\u001b[39m),\n\u001b[0;32m    284\u001b[0m             run_id\u001b[38;5;241m=\u001b[39mconfig\u001b[38;5;241m.\u001b[39mpop(\u001b[38;5;124m\"\u001b[39m\u001b[38;5;124mrun_id\u001b[39m\u001b[38;5;124m\"\u001b[39m, \u001b[38;5;28;01mNone\u001b[39;00m),\n\u001b[0;32m    285\u001b[0m             \u001b[38;5;241m*\u001b[39m\u001b[38;5;241m*\u001b[39mkwargs,\n\u001b[0;32m    286\u001b[0m         )\u001b[38;5;241m.\u001b[39mgenerations[\u001b[38;5;241m0\u001b[39m][\u001b[38;5;241m0\u001b[39m],\n\u001b[0;32m    287\u001b[0m     )\u001b[38;5;241m.\u001b[39mmessage\n",
      "File \u001b[1;32mc:\\Users\\mengerj\\repos\\scverse-x-biochatter\\venv\\lib\\site-packages\\langchain_core\\language_models\\chat_models.py:777\u001b[0m, in \u001b[0;36mBaseChatModel.generate_prompt\u001b[1;34m(self, prompts, stop, callbacks, **kwargs)\u001b[0m\n\u001b[0;32m    769\u001b[0m \u001b[38;5;28;01mdef\u001b[39;00m \u001b[38;5;21mgenerate_prompt\u001b[39m(\n\u001b[0;32m    770\u001b[0m     \u001b[38;5;28mself\u001b[39m,\n\u001b[0;32m    771\u001b[0m     prompts: List[PromptValue],\n\u001b[1;32m   (...)\u001b[0m\n\u001b[0;32m    774\u001b[0m     \u001b[38;5;241m*\u001b[39m\u001b[38;5;241m*\u001b[39mkwargs: Any,\n\u001b[0;32m    775\u001b[0m ) \u001b[38;5;241m-\u001b[39m\u001b[38;5;241m>\u001b[39m LLMResult:\n\u001b[0;32m    776\u001b[0m     prompt_messages \u001b[38;5;241m=\u001b[39m [p\u001b[38;5;241m.\u001b[39mto_messages() \u001b[38;5;28;01mfor\u001b[39;00m p \u001b[38;5;129;01min\u001b[39;00m prompts]\n\u001b[1;32m--> 777\u001b[0m     \u001b[38;5;28;01mreturn\u001b[39;00m \u001b[38;5;28mself\u001b[39m\u001b[38;5;241m.\u001b[39mgenerate(prompt_messages, stop\u001b[38;5;241m=\u001b[39mstop, callbacks\u001b[38;5;241m=\u001b[39mcallbacks, \u001b[38;5;241m*\u001b[39m\u001b[38;5;241m*\u001b[39mkwargs)\n",
      "File \u001b[1;32mc:\\Users\\mengerj\\repos\\scverse-x-biochatter\\venv\\lib\\site-packages\\langchain_core\\language_models\\chat_models.py:634\u001b[0m, in \u001b[0;36mBaseChatModel.generate\u001b[1;34m(self, messages, stop, callbacks, tags, metadata, run_name, run_id, **kwargs)\u001b[0m\n\u001b[0;32m    632\u001b[0m         \u001b[38;5;28;01mif\u001b[39;00m run_managers:\n\u001b[0;32m    633\u001b[0m             run_managers[i]\u001b[38;5;241m.\u001b[39mon_llm_error(e, response\u001b[38;5;241m=\u001b[39mLLMResult(generations\u001b[38;5;241m=\u001b[39m[]))\n\u001b[1;32m--> 634\u001b[0m         \u001b[38;5;28;01mraise\u001b[39;00m e\n\u001b[0;32m    635\u001b[0m flattened_outputs \u001b[38;5;241m=\u001b[39m [\n\u001b[0;32m    636\u001b[0m     LLMResult(generations\u001b[38;5;241m=\u001b[39m[res\u001b[38;5;241m.\u001b[39mgenerations], llm_output\u001b[38;5;241m=\u001b[39mres\u001b[38;5;241m.\u001b[39mllm_output)  \u001b[38;5;66;03m# type: ignore[list-item]\u001b[39;00m\n\u001b[0;32m    637\u001b[0m     \u001b[38;5;28;01mfor\u001b[39;00m res \u001b[38;5;129;01min\u001b[39;00m results\n\u001b[0;32m    638\u001b[0m ]\n\u001b[0;32m    639\u001b[0m llm_output \u001b[38;5;241m=\u001b[39m \u001b[38;5;28mself\u001b[39m\u001b[38;5;241m.\u001b[39m_combine_llm_outputs([res\u001b[38;5;241m.\u001b[39mllm_output \u001b[38;5;28;01mfor\u001b[39;00m res \u001b[38;5;129;01min\u001b[39;00m results])\n",
      "File \u001b[1;32mc:\\Users\\mengerj\\repos\\scverse-x-biochatter\\venv\\lib\\site-packages\\langchain_core\\language_models\\chat_models.py:624\u001b[0m, in \u001b[0;36mBaseChatModel.generate\u001b[1;34m(self, messages, stop, callbacks, tags, metadata, run_name, run_id, **kwargs)\u001b[0m\n\u001b[0;32m    621\u001b[0m \u001b[38;5;28;01mfor\u001b[39;00m i, m \u001b[38;5;129;01min\u001b[39;00m \u001b[38;5;28menumerate\u001b[39m(messages):\n\u001b[0;32m    622\u001b[0m     \u001b[38;5;28;01mtry\u001b[39;00m:\n\u001b[0;32m    623\u001b[0m         results\u001b[38;5;241m.\u001b[39mappend(\n\u001b[1;32m--> 624\u001b[0m             \u001b[38;5;28mself\u001b[39m\u001b[38;5;241m.\u001b[39m_generate_with_cache(\n\u001b[0;32m    625\u001b[0m                 m,\n\u001b[0;32m    626\u001b[0m                 stop\u001b[38;5;241m=\u001b[39mstop,\n\u001b[0;32m    627\u001b[0m                 run_manager\u001b[38;5;241m=\u001b[39mrun_managers[i] \u001b[38;5;28;01mif\u001b[39;00m run_managers \u001b[38;5;28;01melse\u001b[39;00m \u001b[38;5;28;01mNone\u001b[39;00m,\n\u001b[0;32m    628\u001b[0m                 \u001b[38;5;241m*\u001b[39m\u001b[38;5;241m*\u001b[39mkwargs,\n\u001b[0;32m    629\u001b[0m             )\n\u001b[0;32m    630\u001b[0m         )\n\u001b[0;32m    631\u001b[0m     \u001b[38;5;28;01mexcept\u001b[39;00m \u001b[38;5;167;01mBaseException\u001b[39;00m \u001b[38;5;28;01mas\u001b[39;00m e:\n\u001b[0;32m    632\u001b[0m         \u001b[38;5;28;01mif\u001b[39;00m run_managers:\n",
      "File \u001b[1;32mc:\\Users\\mengerj\\repos\\scverse-x-biochatter\\venv\\lib\\site-packages\\langchain_core\\language_models\\chat_models.py:846\u001b[0m, in \u001b[0;36mBaseChatModel._generate_with_cache\u001b[1;34m(self, messages, stop, run_manager, **kwargs)\u001b[0m\n\u001b[0;32m    844\u001b[0m \u001b[38;5;28;01melse\u001b[39;00m:\n\u001b[0;32m    845\u001b[0m     \u001b[38;5;28;01mif\u001b[39;00m inspect\u001b[38;5;241m.\u001b[39msignature(\u001b[38;5;28mself\u001b[39m\u001b[38;5;241m.\u001b[39m_generate)\u001b[38;5;241m.\u001b[39mparameters\u001b[38;5;241m.\u001b[39mget(\u001b[38;5;124m\"\u001b[39m\u001b[38;5;124mrun_manager\u001b[39m\u001b[38;5;124m\"\u001b[39m):\n\u001b[1;32m--> 846\u001b[0m         result \u001b[38;5;241m=\u001b[39m \u001b[38;5;28mself\u001b[39m\u001b[38;5;241m.\u001b[39m_generate(\n\u001b[0;32m    847\u001b[0m             messages, stop\u001b[38;5;241m=\u001b[39mstop, run_manager\u001b[38;5;241m=\u001b[39mrun_manager, \u001b[38;5;241m*\u001b[39m\u001b[38;5;241m*\u001b[39mkwargs\n\u001b[0;32m    848\u001b[0m         )\n\u001b[0;32m    849\u001b[0m     \u001b[38;5;28;01melse\u001b[39;00m:\n\u001b[0;32m    850\u001b[0m         result \u001b[38;5;241m=\u001b[39m \u001b[38;5;28mself\u001b[39m\u001b[38;5;241m.\u001b[39m_generate(messages, stop\u001b[38;5;241m=\u001b[39mstop, \u001b[38;5;241m*\u001b[39m\u001b[38;5;241m*\u001b[39mkwargs)\n",
      "File \u001b[1;32mc:\\Users\\mengerj\\repos\\scverse-x-biochatter\\venv\\lib\\site-packages\\langchain_openai\\chat_models\\base.py:686\u001b[0m, in \u001b[0;36mBaseChatOpenAI._generate\u001b[1;34m(self, messages, stop, run_manager, **kwargs)\u001b[0m\n\u001b[0;32m    684\u001b[0m     generation_info \u001b[38;5;241m=\u001b[39m {\u001b[38;5;124m\"\u001b[39m\u001b[38;5;124mheaders\u001b[39m\u001b[38;5;124m\"\u001b[39m: \u001b[38;5;28mdict\u001b[39m(raw_response\u001b[38;5;241m.\u001b[39mheaders)}\n\u001b[0;32m    685\u001b[0m \u001b[38;5;28;01melse\u001b[39;00m:\n\u001b[1;32m--> 686\u001b[0m     response \u001b[38;5;241m=\u001b[39m \u001b[38;5;28mself\u001b[39m\u001b[38;5;241m.\u001b[39mclient\u001b[38;5;241m.\u001b[39mcreate(\u001b[38;5;241m*\u001b[39m\u001b[38;5;241m*\u001b[39mpayload)\n\u001b[0;32m    687\u001b[0m \u001b[38;5;28;01mreturn\u001b[39;00m \u001b[38;5;28mself\u001b[39m\u001b[38;5;241m.\u001b[39m_create_chat_result(response, generation_info)\n",
      "File \u001b[1;32mc:\\Users\\mengerj\\repos\\scverse-x-biochatter\\venv\\lib\\site-packages\\openai\\_utils\\_utils.py:275\u001b[0m, in \u001b[0;36mrequired_args.<locals>.inner.<locals>.wrapper\u001b[1;34m(*args, **kwargs)\u001b[0m\n\u001b[0;32m    273\u001b[0m             msg \u001b[38;5;241m=\u001b[39m \u001b[38;5;124mf\u001b[39m\u001b[38;5;124m\"\u001b[39m\u001b[38;5;124mMissing required argument: \u001b[39m\u001b[38;5;132;01m{\u001b[39;00mquote(missing[\u001b[38;5;241m0\u001b[39m])\u001b[38;5;132;01m}\u001b[39;00m\u001b[38;5;124m\"\u001b[39m\n\u001b[0;32m    274\u001b[0m     \u001b[38;5;28;01mraise\u001b[39;00m \u001b[38;5;167;01mTypeError\u001b[39;00m(msg)\n\u001b[1;32m--> 275\u001b[0m \u001b[38;5;28;01mreturn\u001b[39;00m func(\u001b[38;5;241m*\u001b[39margs, \u001b[38;5;241m*\u001b[39m\u001b[38;5;241m*\u001b[39mkwargs)\n",
      "File \u001b[1;32mc:\\Users\\mengerj\\repos\\scverse-x-biochatter\\venv\\lib\\site-packages\\openai\\resources\\chat\\completions.py:829\u001b[0m, in \u001b[0;36mCompletions.create\u001b[1;34m(self, messages, model, audio, frequency_penalty, function_call, functions, logit_bias, logprobs, max_completion_tokens, max_tokens, metadata, modalities, n, parallel_tool_calls, prediction, presence_penalty, response_format, seed, service_tier, stop, store, stream, stream_options, temperature, tool_choice, tools, top_logprobs, top_p, user, extra_headers, extra_query, extra_body, timeout)\u001b[0m\n\u001b[0;32m    788\u001b[0m \u001b[38;5;129m@required_args\u001b[39m([\u001b[38;5;124m\"\u001b[39m\u001b[38;5;124mmessages\u001b[39m\u001b[38;5;124m\"\u001b[39m, \u001b[38;5;124m\"\u001b[39m\u001b[38;5;124mmodel\u001b[39m\u001b[38;5;124m\"\u001b[39m], [\u001b[38;5;124m\"\u001b[39m\u001b[38;5;124mmessages\u001b[39m\u001b[38;5;124m\"\u001b[39m, \u001b[38;5;124m\"\u001b[39m\u001b[38;5;124mmodel\u001b[39m\u001b[38;5;124m\"\u001b[39m, \u001b[38;5;124m\"\u001b[39m\u001b[38;5;124mstream\u001b[39m\u001b[38;5;124m\"\u001b[39m])\n\u001b[0;32m    789\u001b[0m \u001b[38;5;28;01mdef\u001b[39;00m \u001b[38;5;21mcreate\u001b[39m(\n\u001b[0;32m    790\u001b[0m     \u001b[38;5;28mself\u001b[39m,\n\u001b[1;32m   (...)\u001b[0m\n\u001b[0;32m    826\u001b[0m     timeout: \u001b[38;5;28mfloat\u001b[39m \u001b[38;5;241m|\u001b[39m httpx\u001b[38;5;241m.\u001b[39mTimeout \u001b[38;5;241m|\u001b[39m \u001b[38;5;28;01mNone\u001b[39;00m \u001b[38;5;241m|\u001b[39m NotGiven \u001b[38;5;241m=\u001b[39m NOT_GIVEN,\n\u001b[0;32m    827\u001b[0m ) \u001b[38;5;241m-\u001b[39m\u001b[38;5;241m>\u001b[39m ChatCompletion \u001b[38;5;241m|\u001b[39m Stream[ChatCompletionChunk]:\n\u001b[0;32m    828\u001b[0m     validate_response_format(response_format)\n\u001b[1;32m--> 829\u001b[0m     \u001b[38;5;28;01mreturn\u001b[39;00m \u001b[38;5;28;43mself\u001b[39;49m\u001b[38;5;241;43m.\u001b[39;49m\u001b[43m_post\u001b[49m\u001b[43m(\u001b[49m\n\u001b[0;32m    830\u001b[0m \u001b[43m        \u001b[49m\u001b[38;5;124;43m\"\u001b[39;49m\u001b[38;5;124;43m/chat/completions\u001b[39;49m\u001b[38;5;124;43m\"\u001b[39;49m\u001b[43m,\u001b[49m\n\u001b[0;32m    831\u001b[0m \u001b[43m        \u001b[49m\u001b[43mbody\u001b[49m\u001b[38;5;241;43m=\u001b[39;49m\u001b[43mmaybe_transform\u001b[49m\u001b[43m(\u001b[49m\n\u001b[0;32m    832\u001b[0m \u001b[43m            \u001b[49m\u001b[43m{\u001b[49m\n\u001b[0;32m    833\u001b[0m \u001b[43m                \u001b[49m\u001b[38;5;124;43m\"\u001b[39;49m\u001b[38;5;124;43mmessages\u001b[39;49m\u001b[38;5;124;43m\"\u001b[39;49m\u001b[43m:\u001b[49m\u001b[43m \u001b[49m\u001b[43mmessages\u001b[49m\u001b[43m,\u001b[49m\n\u001b[0;32m    834\u001b[0m \u001b[43m                \u001b[49m\u001b[38;5;124;43m\"\u001b[39;49m\u001b[38;5;124;43mmodel\u001b[39;49m\u001b[38;5;124;43m\"\u001b[39;49m\u001b[43m:\u001b[49m\u001b[43m \u001b[49m\u001b[43mmodel\u001b[49m\u001b[43m,\u001b[49m\n\u001b[0;32m    835\u001b[0m \u001b[43m                \u001b[49m\u001b[38;5;124;43m\"\u001b[39;49m\u001b[38;5;124;43maudio\u001b[39;49m\u001b[38;5;124;43m\"\u001b[39;49m\u001b[43m:\u001b[49m\u001b[43m \u001b[49m\u001b[43maudio\u001b[49m\u001b[43m,\u001b[49m\n\u001b[0;32m    836\u001b[0m \u001b[43m                \u001b[49m\u001b[38;5;124;43m\"\u001b[39;49m\u001b[38;5;124;43mfrequency_penalty\u001b[39;49m\u001b[38;5;124;43m\"\u001b[39;49m\u001b[43m:\u001b[49m\u001b[43m \u001b[49m\u001b[43mfrequency_penalty\u001b[49m\u001b[43m,\u001b[49m\n\u001b[0;32m    837\u001b[0m \u001b[43m                \u001b[49m\u001b[38;5;124;43m\"\u001b[39;49m\u001b[38;5;124;43mfunction_call\u001b[39;49m\u001b[38;5;124;43m\"\u001b[39;49m\u001b[43m:\u001b[49m\u001b[43m \u001b[49m\u001b[43mfunction_call\u001b[49m\u001b[43m,\u001b[49m\n\u001b[0;32m    838\u001b[0m \u001b[43m                \u001b[49m\u001b[38;5;124;43m\"\u001b[39;49m\u001b[38;5;124;43mfunctions\u001b[39;49m\u001b[38;5;124;43m\"\u001b[39;49m\u001b[43m:\u001b[49m\u001b[43m \u001b[49m\u001b[43mfunctions\u001b[49m\u001b[43m,\u001b[49m\n\u001b[0;32m    839\u001b[0m \u001b[43m                \u001b[49m\u001b[38;5;124;43m\"\u001b[39;49m\u001b[38;5;124;43mlogit_bias\u001b[39;49m\u001b[38;5;124;43m\"\u001b[39;49m\u001b[43m:\u001b[49m\u001b[43m \u001b[49m\u001b[43mlogit_bias\u001b[49m\u001b[43m,\u001b[49m\n\u001b[0;32m    840\u001b[0m \u001b[43m                \u001b[49m\u001b[38;5;124;43m\"\u001b[39;49m\u001b[38;5;124;43mlogprobs\u001b[39;49m\u001b[38;5;124;43m\"\u001b[39;49m\u001b[43m:\u001b[49m\u001b[43m \u001b[49m\u001b[43mlogprobs\u001b[49m\u001b[43m,\u001b[49m\n\u001b[0;32m    841\u001b[0m \u001b[43m                \u001b[49m\u001b[38;5;124;43m\"\u001b[39;49m\u001b[38;5;124;43mmax_completion_tokens\u001b[39;49m\u001b[38;5;124;43m\"\u001b[39;49m\u001b[43m:\u001b[49m\u001b[43m \u001b[49m\u001b[43mmax_completion_tokens\u001b[49m\u001b[43m,\u001b[49m\n\u001b[0;32m    842\u001b[0m \u001b[43m                \u001b[49m\u001b[38;5;124;43m\"\u001b[39;49m\u001b[38;5;124;43mmax_tokens\u001b[39;49m\u001b[38;5;124;43m\"\u001b[39;49m\u001b[43m:\u001b[49m\u001b[43m \u001b[49m\u001b[43mmax_tokens\u001b[49m\u001b[43m,\u001b[49m\n\u001b[0;32m    843\u001b[0m \u001b[43m                \u001b[49m\u001b[38;5;124;43m\"\u001b[39;49m\u001b[38;5;124;43mmetadata\u001b[39;49m\u001b[38;5;124;43m\"\u001b[39;49m\u001b[43m:\u001b[49m\u001b[43m \u001b[49m\u001b[43mmetadata\u001b[49m\u001b[43m,\u001b[49m\n\u001b[0;32m    844\u001b[0m \u001b[43m                \u001b[49m\u001b[38;5;124;43m\"\u001b[39;49m\u001b[38;5;124;43mmodalities\u001b[39;49m\u001b[38;5;124;43m\"\u001b[39;49m\u001b[43m:\u001b[49m\u001b[43m \u001b[49m\u001b[43mmodalities\u001b[49m\u001b[43m,\u001b[49m\n\u001b[0;32m    845\u001b[0m \u001b[43m                \u001b[49m\u001b[38;5;124;43m\"\u001b[39;49m\u001b[38;5;124;43mn\u001b[39;49m\u001b[38;5;124;43m\"\u001b[39;49m\u001b[43m:\u001b[49m\u001b[43m \u001b[49m\u001b[43mn\u001b[49m\u001b[43m,\u001b[49m\n\u001b[0;32m    846\u001b[0m \u001b[43m                \u001b[49m\u001b[38;5;124;43m\"\u001b[39;49m\u001b[38;5;124;43mparallel_tool_calls\u001b[39;49m\u001b[38;5;124;43m\"\u001b[39;49m\u001b[43m:\u001b[49m\u001b[43m \u001b[49m\u001b[43mparallel_tool_calls\u001b[49m\u001b[43m,\u001b[49m\n\u001b[0;32m    847\u001b[0m \u001b[43m                \u001b[49m\u001b[38;5;124;43m\"\u001b[39;49m\u001b[38;5;124;43mprediction\u001b[39;49m\u001b[38;5;124;43m\"\u001b[39;49m\u001b[43m:\u001b[49m\u001b[43m \u001b[49m\u001b[43mprediction\u001b[49m\u001b[43m,\u001b[49m\n\u001b[0;32m    848\u001b[0m \u001b[43m                \u001b[49m\u001b[38;5;124;43m\"\u001b[39;49m\u001b[38;5;124;43mpresence_penalty\u001b[39;49m\u001b[38;5;124;43m\"\u001b[39;49m\u001b[43m:\u001b[49m\u001b[43m \u001b[49m\u001b[43mpresence_penalty\u001b[49m\u001b[43m,\u001b[49m\n\u001b[0;32m    849\u001b[0m \u001b[43m                \u001b[49m\u001b[38;5;124;43m\"\u001b[39;49m\u001b[38;5;124;43mresponse_format\u001b[39;49m\u001b[38;5;124;43m\"\u001b[39;49m\u001b[43m:\u001b[49m\u001b[43m \u001b[49m\u001b[43mresponse_format\u001b[49m\u001b[43m,\u001b[49m\n\u001b[0;32m    850\u001b[0m \u001b[43m                \u001b[49m\u001b[38;5;124;43m\"\u001b[39;49m\u001b[38;5;124;43mseed\u001b[39;49m\u001b[38;5;124;43m\"\u001b[39;49m\u001b[43m:\u001b[49m\u001b[43m \u001b[49m\u001b[43mseed\u001b[49m\u001b[43m,\u001b[49m\n\u001b[0;32m    851\u001b[0m \u001b[43m                \u001b[49m\u001b[38;5;124;43m\"\u001b[39;49m\u001b[38;5;124;43mservice_tier\u001b[39;49m\u001b[38;5;124;43m\"\u001b[39;49m\u001b[43m:\u001b[49m\u001b[43m \u001b[49m\u001b[43mservice_tier\u001b[49m\u001b[43m,\u001b[49m\n\u001b[0;32m    852\u001b[0m \u001b[43m                \u001b[49m\u001b[38;5;124;43m\"\u001b[39;49m\u001b[38;5;124;43mstop\u001b[39;49m\u001b[38;5;124;43m\"\u001b[39;49m\u001b[43m:\u001b[49m\u001b[43m \u001b[49m\u001b[43mstop\u001b[49m\u001b[43m,\u001b[49m\n\u001b[0;32m    853\u001b[0m \u001b[43m                \u001b[49m\u001b[38;5;124;43m\"\u001b[39;49m\u001b[38;5;124;43mstore\u001b[39;49m\u001b[38;5;124;43m\"\u001b[39;49m\u001b[43m:\u001b[49m\u001b[43m \u001b[49m\u001b[43mstore\u001b[49m\u001b[43m,\u001b[49m\n\u001b[0;32m    854\u001b[0m \u001b[43m                \u001b[49m\u001b[38;5;124;43m\"\u001b[39;49m\u001b[38;5;124;43mstream\u001b[39;49m\u001b[38;5;124;43m\"\u001b[39;49m\u001b[43m:\u001b[49m\u001b[43m \u001b[49m\u001b[43mstream\u001b[49m\u001b[43m,\u001b[49m\n\u001b[0;32m    855\u001b[0m \u001b[43m                \u001b[49m\u001b[38;5;124;43m\"\u001b[39;49m\u001b[38;5;124;43mstream_options\u001b[39;49m\u001b[38;5;124;43m\"\u001b[39;49m\u001b[43m:\u001b[49m\u001b[43m \u001b[49m\u001b[43mstream_options\u001b[49m\u001b[43m,\u001b[49m\n\u001b[0;32m    856\u001b[0m \u001b[43m                \u001b[49m\u001b[38;5;124;43m\"\u001b[39;49m\u001b[38;5;124;43mtemperature\u001b[39;49m\u001b[38;5;124;43m\"\u001b[39;49m\u001b[43m:\u001b[49m\u001b[43m \u001b[49m\u001b[43mtemperature\u001b[49m\u001b[43m,\u001b[49m\n\u001b[0;32m    857\u001b[0m \u001b[43m                \u001b[49m\u001b[38;5;124;43m\"\u001b[39;49m\u001b[38;5;124;43mtool_choice\u001b[39;49m\u001b[38;5;124;43m\"\u001b[39;49m\u001b[43m:\u001b[49m\u001b[43m \u001b[49m\u001b[43mtool_choice\u001b[49m\u001b[43m,\u001b[49m\n\u001b[0;32m    858\u001b[0m \u001b[43m                \u001b[49m\u001b[38;5;124;43m\"\u001b[39;49m\u001b[38;5;124;43mtools\u001b[39;49m\u001b[38;5;124;43m\"\u001b[39;49m\u001b[43m:\u001b[49m\u001b[43m \u001b[49m\u001b[43mtools\u001b[49m\u001b[43m,\u001b[49m\n\u001b[0;32m    859\u001b[0m \u001b[43m                \u001b[49m\u001b[38;5;124;43m\"\u001b[39;49m\u001b[38;5;124;43mtop_logprobs\u001b[39;49m\u001b[38;5;124;43m\"\u001b[39;49m\u001b[43m:\u001b[49m\u001b[43m \u001b[49m\u001b[43mtop_logprobs\u001b[49m\u001b[43m,\u001b[49m\n\u001b[0;32m    860\u001b[0m \u001b[43m                \u001b[49m\u001b[38;5;124;43m\"\u001b[39;49m\u001b[38;5;124;43mtop_p\u001b[39;49m\u001b[38;5;124;43m\"\u001b[39;49m\u001b[43m:\u001b[49m\u001b[43m \u001b[49m\u001b[43mtop_p\u001b[49m\u001b[43m,\u001b[49m\n\u001b[0;32m    861\u001b[0m \u001b[43m                \u001b[49m\u001b[38;5;124;43m\"\u001b[39;49m\u001b[38;5;124;43muser\u001b[39;49m\u001b[38;5;124;43m\"\u001b[39;49m\u001b[43m:\u001b[49m\u001b[43m \u001b[49m\u001b[43muser\u001b[49m\u001b[43m,\u001b[49m\n\u001b[0;32m    862\u001b[0m \u001b[43m            \u001b[49m\u001b[43m}\u001b[49m\u001b[43m,\u001b[49m\n\u001b[0;32m    863\u001b[0m \u001b[43m            \u001b[49m\u001b[43mcompletion_create_params\u001b[49m\u001b[38;5;241;43m.\u001b[39;49m\u001b[43mCompletionCreateParams\u001b[49m\u001b[43m,\u001b[49m\n\u001b[0;32m    864\u001b[0m \u001b[43m        \u001b[49m\u001b[43m)\u001b[49m\u001b[43m,\u001b[49m\n\u001b[0;32m    865\u001b[0m \u001b[43m        \u001b[49m\u001b[43moptions\u001b[49m\u001b[38;5;241;43m=\u001b[39;49m\u001b[43mmake_request_options\u001b[49m\u001b[43m(\u001b[49m\n\u001b[0;32m    866\u001b[0m \u001b[43m            \u001b[49m\u001b[43mextra_headers\u001b[49m\u001b[38;5;241;43m=\u001b[39;49m\u001b[43mextra_headers\u001b[49m\u001b[43m,\u001b[49m\u001b[43m \u001b[49m\u001b[43mextra_query\u001b[49m\u001b[38;5;241;43m=\u001b[39;49m\u001b[43mextra_query\u001b[49m\u001b[43m,\u001b[49m\u001b[43m \u001b[49m\u001b[43mextra_body\u001b[49m\u001b[38;5;241;43m=\u001b[39;49m\u001b[43mextra_body\u001b[49m\u001b[43m,\u001b[49m\u001b[43m \u001b[49m\u001b[43mtimeout\u001b[49m\u001b[38;5;241;43m=\u001b[39;49m\u001b[43mtimeout\u001b[49m\n\u001b[0;32m    867\u001b[0m \u001b[43m        \u001b[49m\u001b[43m)\u001b[49m\u001b[43m,\u001b[49m\n\u001b[0;32m    868\u001b[0m \u001b[43m        \u001b[49m\u001b[43mcast_to\u001b[49m\u001b[38;5;241;43m=\u001b[39;49m\u001b[43mChatCompletion\u001b[49m\u001b[43m,\u001b[49m\n\u001b[0;32m    869\u001b[0m \u001b[43m        \u001b[49m\u001b[43mstream\u001b[49m\u001b[38;5;241;43m=\u001b[39;49m\u001b[43mstream\u001b[49m\u001b[43m \u001b[49m\u001b[38;5;129;43;01mor\u001b[39;49;00m\u001b[43m \u001b[49m\u001b[38;5;28;43;01mFalse\u001b[39;49;00m\u001b[43m,\u001b[49m\n\u001b[0;32m    870\u001b[0m \u001b[43m        \u001b[49m\u001b[43mstream_cls\u001b[49m\u001b[38;5;241;43m=\u001b[39;49m\u001b[43mStream\u001b[49m\u001b[43m[\u001b[49m\u001b[43mChatCompletionChunk\u001b[49m\u001b[43m]\u001b[49m\u001b[43m,\u001b[49m\n\u001b[0;32m    871\u001b[0m \u001b[43m    \u001b[49m\u001b[43m)\u001b[49m\n",
      "File \u001b[1;32mc:\\Users\\mengerj\\repos\\scverse-x-biochatter\\venv\\lib\\site-packages\\openai\\_base_client.py:1280\u001b[0m, in \u001b[0;36mSyncAPIClient.post\u001b[1;34m(self, path, cast_to, body, options, files, stream, stream_cls)\u001b[0m\n\u001b[0;32m   1266\u001b[0m \u001b[38;5;28;01mdef\u001b[39;00m \u001b[38;5;21mpost\u001b[39m(\n\u001b[0;32m   1267\u001b[0m     \u001b[38;5;28mself\u001b[39m,\n\u001b[0;32m   1268\u001b[0m     path: \u001b[38;5;28mstr\u001b[39m,\n\u001b[1;32m   (...)\u001b[0m\n\u001b[0;32m   1275\u001b[0m     stream_cls: \u001b[38;5;28mtype\u001b[39m[_StreamT] \u001b[38;5;241m|\u001b[39m \u001b[38;5;28;01mNone\u001b[39;00m \u001b[38;5;241m=\u001b[39m \u001b[38;5;28;01mNone\u001b[39;00m,\n\u001b[0;32m   1276\u001b[0m ) \u001b[38;5;241m-\u001b[39m\u001b[38;5;241m>\u001b[39m ResponseT \u001b[38;5;241m|\u001b[39m _StreamT:\n\u001b[0;32m   1277\u001b[0m     opts \u001b[38;5;241m=\u001b[39m FinalRequestOptions\u001b[38;5;241m.\u001b[39mconstruct(\n\u001b[0;32m   1278\u001b[0m         method\u001b[38;5;241m=\u001b[39m\u001b[38;5;124m\"\u001b[39m\u001b[38;5;124mpost\u001b[39m\u001b[38;5;124m\"\u001b[39m, url\u001b[38;5;241m=\u001b[39mpath, json_data\u001b[38;5;241m=\u001b[39mbody, files\u001b[38;5;241m=\u001b[39mto_httpx_files(files), \u001b[38;5;241m*\u001b[39m\u001b[38;5;241m*\u001b[39moptions\n\u001b[0;32m   1279\u001b[0m     )\n\u001b[1;32m-> 1280\u001b[0m     \u001b[38;5;28;01mreturn\u001b[39;00m cast(ResponseT, \u001b[38;5;28;43mself\u001b[39;49m\u001b[38;5;241;43m.\u001b[39;49m\u001b[43mrequest\u001b[49m\u001b[43m(\u001b[49m\u001b[43mcast_to\u001b[49m\u001b[43m,\u001b[49m\u001b[43m \u001b[49m\u001b[43mopts\u001b[49m\u001b[43m,\u001b[49m\u001b[43m \u001b[49m\u001b[43mstream\u001b[49m\u001b[38;5;241;43m=\u001b[39;49m\u001b[43mstream\u001b[49m\u001b[43m,\u001b[49m\u001b[43m \u001b[49m\u001b[43mstream_cls\u001b[49m\u001b[38;5;241;43m=\u001b[39;49m\u001b[43mstream_cls\u001b[49m\u001b[43m)\u001b[49m)\n",
      "File \u001b[1;32mc:\\Users\\mengerj\\repos\\scverse-x-biochatter\\venv\\lib\\site-packages\\openai\\_base_client.py:957\u001b[0m, in \u001b[0;36mSyncAPIClient.request\u001b[1;34m(self, cast_to, options, remaining_retries, stream, stream_cls)\u001b[0m\n\u001b[0;32m    954\u001b[0m \u001b[38;5;28;01melse\u001b[39;00m:\n\u001b[0;32m    955\u001b[0m     retries_taken \u001b[38;5;241m=\u001b[39m \u001b[38;5;241m0\u001b[39m\n\u001b[1;32m--> 957\u001b[0m \u001b[38;5;28;01mreturn\u001b[39;00m \u001b[38;5;28;43mself\u001b[39;49m\u001b[38;5;241;43m.\u001b[39;49m\u001b[43m_request\u001b[49m\u001b[43m(\u001b[49m\n\u001b[0;32m    958\u001b[0m \u001b[43m    \u001b[49m\u001b[43mcast_to\u001b[49m\u001b[38;5;241;43m=\u001b[39;49m\u001b[43mcast_to\u001b[49m\u001b[43m,\u001b[49m\n\u001b[0;32m    959\u001b[0m \u001b[43m    \u001b[49m\u001b[43moptions\u001b[49m\u001b[38;5;241;43m=\u001b[39;49m\u001b[43moptions\u001b[49m\u001b[43m,\u001b[49m\n\u001b[0;32m    960\u001b[0m \u001b[43m    \u001b[49m\u001b[43mstream\u001b[49m\u001b[38;5;241;43m=\u001b[39;49m\u001b[43mstream\u001b[49m\u001b[43m,\u001b[49m\n\u001b[0;32m    961\u001b[0m \u001b[43m    \u001b[49m\u001b[43mstream_cls\u001b[49m\u001b[38;5;241;43m=\u001b[39;49m\u001b[43mstream_cls\u001b[49m\u001b[43m,\u001b[49m\n\u001b[0;32m    962\u001b[0m \u001b[43m    \u001b[49m\u001b[43mretries_taken\u001b[49m\u001b[38;5;241;43m=\u001b[39;49m\u001b[43mretries_taken\u001b[49m\u001b[43m,\u001b[49m\n\u001b[0;32m    963\u001b[0m \u001b[43m\u001b[49m\u001b[43m)\u001b[49m\n",
      "File \u001b[1;32mc:\\Users\\mengerj\\repos\\scverse-x-biochatter\\venv\\lib\\site-packages\\openai\\_base_client.py:993\u001b[0m, in \u001b[0;36mSyncAPIClient._request\u001b[1;34m(self, cast_to, options, retries_taken, stream, stream_cls)\u001b[0m\n\u001b[0;32m    990\u001b[0m log\u001b[38;5;241m.\u001b[39mdebug(\u001b[38;5;124m\"\u001b[39m\u001b[38;5;124mSending HTTP Request: \u001b[39m\u001b[38;5;132;01m%s\u001b[39;00m\u001b[38;5;124m \u001b[39m\u001b[38;5;132;01m%s\u001b[39;00m\u001b[38;5;124m\"\u001b[39m, request\u001b[38;5;241m.\u001b[39mmethod, request\u001b[38;5;241m.\u001b[39murl)\n\u001b[0;32m    992\u001b[0m \u001b[38;5;28;01mtry\u001b[39;00m:\n\u001b[1;32m--> 993\u001b[0m     response \u001b[38;5;241m=\u001b[39m \u001b[38;5;28mself\u001b[39m\u001b[38;5;241m.\u001b[39m_client\u001b[38;5;241m.\u001b[39msend(\n\u001b[0;32m    994\u001b[0m         request,\n\u001b[0;32m    995\u001b[0m         stream\u001b[38;5;241m=\u001b[39mstream \u001b[38;5;129;01mor\u001b[39;00m \u001b[38;5;28mself\u001b[39m\u001b[38;5;241m.\u001b[39m_should_stream_response_body(request\u001b[38;5;241m=\u001b[39mrequest),\n\u001b[0;32m    996\u001b[0m         \u001b[38;5;241m*\u001b[39m\u001b[38;5;241m*\u001b[39mkwargs,\n\u001b[0;32m    997\u001b[0m     )\n\u001b[0;32m    998\u001b[0m \u001b[38;5;28;01mexcept\u001b[39;00m httpx\u001b[38;5;241m.\u001b[39mTimeoutException \u001b[38;5;28;01mas\u001b[39;00m err:\n\u001b[0;32m    999\u001b[0m     log\u001b[38;5;241m.\u001b[39mdebug(\u001b[38;5;124m\"\u001b[39m\u001b[38;5;124mEncountered httpx.TimeoutException\u001b[39m\u001b[38;5;124m\"\u001b[39m, exc_info\u001b[38;5;241m=\u001b[39m\u001b[38;5;28;01mTrue\u001b[39;00m)\n",
      "File \u001b[1;32mc:\\Users\\mengerj\\repos\\scverse-x-biochatter\\venv\\lib\\site-packages\\httpx\\_client.py:914\u001b[0m, in \u001b[0;36mClient.send\u001b[1;34m(self, request, stream, auth, follow_redirects)\u001b[0m\n\u001b[0;32m    910\u001b[0m \u001b[38;5;28mself\u001b[39m\u001b[38;5;241m.\u001b[39m_set_timeout(request)\n\u001b[0;32m    912\u001b[0m auth \u001b[38;5;241m=\u001b[39m \u001b[38;5;28mself\u001b[39m\u001b[38;5;241m.\u001b[39m_build_request_auth(request, auth)\n\u001b[1;32m--> 914\u001b[0m response \u001b[38;5;241m=\u001b[39m \u001b[38;5;28;43mself\u001b[39;49m\u001b[38;5;241;43m.\u001b[39;49m\u001b[43m_send_handling_auth\u001b[49m\u001b[43m(\u001b[49m\n\u001b[0;32m    915\u001b[0m \u001b[43m    \u001b[49m\u001b[43mrequest\u001b[49m\u001b[43m,\u001b[49m\n\u001b[0;32m    916\u001b[0m \u001b[43m    \u001b[49m\u001b[43mauth\u001b[49m\u001b[38;5;241;43m=\u001b[39;49m\u001b[43mauth\u001b[49m\u001b[43m,\u001b[49m\n\u001b[0;32m    917\u001b[0m \u001b[43m    \u001b[49m\u001b[43mfollow_redirects\u001b[49m\u001b[38;5;241;43m=\u001b[39;49m\u001b[43mfollow_redirects\u001b[49m\u001b[43m,\u001b[49m\n\u001b[0;32m    918\u001b[0m \u001b[43m    \u001b[49m\u001b[43mhistory\u001b[49m\u001b[38;5;241;43m=\u001b[39;49m\u001b[43m[\u001b[49m\u001b[43m]\u001b[49m\u001b[43m,\u001b[49m\n\u001b[0;32m    919\u001b[0m \u001b[43m\u001b[49m\u001b[43m)\u001b[49m\n\u001b[0;32m    920\u001b[0m \u001b[38;5;28;01mtry\u001b[39;00m:\n\u001b[0;32m    921\u001b[0m     \u001b[38;5;28;01mif\u001b[39;00m \u001b[38;5;129;01mnot\u001b[39;00m stream:\n",
      "File \u001b[1;32mc:\\Users\\mengerj\\repos\\scverse-x-biochatter\\venv\\lib\\site-packages\\httpx\\_client.py:942\u001b[0m, in \u001b[0;36mClient._send_handling_auth\u001b[1;34m(self, request, auth, follow_redirects, history)\u001b[0m\n\u001b[0;32m    939\u001b[0m request \u001b[38;5;241m=\u001b[39m \u001b[38;5;28mnext\u001b[39m(auth_flow)\n\u001b[0;32m    941\u001b[0m \u001b[38;5;28;01mwhile\u001b[39;00m \u001b[38;5;28;01mTrue\u001b[39;00m:\n\u001b[1;32m--> 942\u001b[0m     response \u001b[38;5;241m=\u001b[39m \u001b[38;5;28;43mself\u001b[39;49m\u001b[38;5;241;43m.\u001b[39;49m\u001b[43m_send_handling_redirects\u001b[49m\u001b[43m(\u001b[49m\n\u001b[0;32m    943\u001b[0m \u001b[43m        \u001b[49m\u001b[43mrequest\u001b[49m\u001b[43m,\u001b[49m\n\u001b[0;32m    944\u001b[0m \u001b[43m        \u001b[49m\u001b[43mfollow_redirects\u001b[49m\u001b[38;5;241;43m=\u001b[39;49m\u001b[43mfollow_redirects\u001b[49m\u001b[43m,\u001b[49m\n\u001b[0;32m    945\u001b[0m \u001b[43m        \u001b[49m\u001b[43mhistory\u001b[49m\u001b[38;5;241;43m=\u001b[39;49m\u001b[43mhistory\u001b[49m\u001b[43m,\u001b[49m\n\u001b[0;32m    946\u001b[0m \u001b[43m    \u001b[49m\u001b[43m)\u001b[49m\n\u001b[0;32m    947\u001b[0m     \u001b[38;5;28;01mtry\u001b[39;00m:\n\u001b[0;32m    948\u001b[0m         \u001b[38;5;28;01mtry\u001b[39;00m:\n",
      "File \u001b[1;32mc:\\Users\\mengerj\\repos\\scverse-x-biochatter\\venv\\lib\\site-packages\\httpx\\_client.py:979\u001b[0m, in \u001b[0;36mClient._send_handling_redirects\u001b[1;34m(self, request, follow_redirects, history)\u001b[0m\n\u001b[0;32m    976\u001b[0m \u001b[38;5;28;01mfor\u001b[39;00m hook \u001b[38;5;129;01min\u001b[39;00m \u001b[38;5;28mself\u001b[39m\u001b[38;5;241m.\u001b[39m_event_hooks[\u001b[38;5;124m\"\u001b[39m\u001b[38;5;124mrequest\u001b[39m\u001b[38;5;124m\"\u001b[39m]:\n\u001b[0;32m    977\u001b[0m     hook(request)\n\u001b[1;32m--> 979\u001b[0m response \u001b[38;5;241m=\u001b[39m \u001b[38;5;28;43mself\u001b[39;49m\u001b[38;5;241;43m.\u001b[39;49m\u001b[43m_send_single_request\u001b[49m\u001b[43m(\u001b[49m\u001b[43mrequest\u001b[49m\u001b[43m)\u001b[49m\n\u001b[0;32m    980\u001b[0m \u001b[38;5;28;01mtry\u001b[39;00m:\n\u001b[0;32m    981\u001b[0m     \u001b[38;5;28;01mfor\u001b[39;00m hook \u001b[38;5;129;01min\u001b[39;00m \u001b[38;5;28mself\u001b[39m\u001b[38;5;241m.\u001b[39m_event_hooks[\u001b[38;5;124m\"\u001b[39m\u001b[38;5;124mresponse\u001b[39m\u001b[38;5;124m\"\u001b[39m]:\n",
      "File \u001b[1;32mc:\\Users\\mengerj\\repos\\scverse-x-biochatter\\venv\\lib\\site-packages\\httpx\\_client.py:1014\u001b[0m, in \u001b[0;36mClient._send_single_request\u001b[1;34m(self, request)\u001b[0m\n\u001b[0;32m   1009\u001b[0m     \u001b[38;5;28;01mraise\u001b[39;00m \u001b[38;5;167;01mRuntimeError\u001b[39;00m(\n\u001b[0;32m   1010\u001b[0m         \u001b[38;5;124m\"\u001b[39m\u001b[38;5;124mAttempted to send an async request with a sync Client instance.\u001b[39m\u001b[38;5;124m\"\u001b[39m\n\u001b[0;32m   1011\u001b[0m     )\n\u001b[0;32m   1013\u001b[0m \u001b[38;5;28;01mwith\u001b[39;00m request_context(request\u001b[38;5;241m=\u001b[39mrequest):\n\u001b[1;32m-> 1014\u001b[0m     response \u001b[38;5;241m=\u001b[39m \u001b[43mtransport\u001b[49m\u001b[38;5;241;43m.\u001b[39;49m\u001b[43mhandle_request\u001b[49m\u001b[43m(\u001b[49m\u001b[43mrequest\u001b[49m\u001b[43m)\u001b[49m\n\u001b[0;32m   1016\u001b[0m \u001b[38;5;28;01massert\u001b[39;00m \u001b[38;5;28misinstance\u001b[39m(response\u001b[38;5;241m.\u001b[39mstream, SyncByteStream)\n\u001b[0;32m   1018\u001b[0m response\u001b[38;5;241m.\u001b[39mrequest \u001b[38;5;241m=\u001b[39m request\n",
      "File \u001b[1;32mc:\\Users\\mengerj\\repos\\scverse-x-biochatter\\venv\\lib\\site-packages\\httpx\\_transports\\default.py:250\u001b[0m, in \u001b[0;36mHTTPTransport.handle_request\u001b[1;34m(self, request)\u001b[0m\n\u001b[0;32m    237\u001b[0m req \u001b[38;5;241m=\u001b[39m httpcore\u001b[38;5;241m.\u001b[39mRequest(\n\u001b[0;32m    238\u001b[0m     method\u001b[38;5;241m=\u001b[39mrequest\u001b[38;5;241m.\u001b[39mmethod,\n\u001b[0;32m    239\u001b[0m     url\u001b[38;5;241m=\u001b[39mhttpcore\u001b[38;5;241m.\u001b[39mURL(\n\u001b[1;32m   (...)\u001b[0m\n\u001b[0;32m    247\u001b[0m     extensions\u001b[38;5;241m=\u001b[39mrequest\u001b[38;5;241m.\u001b[39mextensions,\n\u001b[0;32m    248\u001b[0m )\n\u001b[0;32m    249\u001b[0m \u001b[38;5;28;01mwith\u001b[39;00m map_httpcore_exceptions():\n\u001b[1;32m--> 250\u001b[0m     resp \u001b[38;5;241m=\u001b[39m \u001b[38;5;28;43mself\u001b[39;49m\u001b[38;5;241;43m.\u001b[39;49m\u001b[43m_pool\u001b[49m\u001b[38;5;241;43m.\u001b[39;49m\u001b[43mhandle_request\u001b[49m\u001b[43m(\u001b[49m\u001b[43mreq\u001b[49m\u001b[43m)\u001b[49m\n\u001b[0;32m    252\u001b[0m \u001b[38;5;28;01massert\u001b[39;00m \u001b[38;5;28misinstance\u001b[39m(resp\u001b[38;5;241m.\u001b[39mstream, typing\u001b[38;5;241m.\u001b[39mIterable)\n\u001b[0;32m    254\u001b[0m \u001b[38;5;28;01mreturn\u001b[39;00m Response(\n\u001b[0;32m    255\u001b[0m     status_code\u001b[38;5;241m=\u001b[39mresp\u001b[38;5;241m.\u001b[39mstatus,\n\u001b[0;32m    256\u001b[0m     headers\u001b[38;5;241m=\u001b[39mresp\u001b[38;5;241m.\u001b[39mheaders,\n\u001b[0;32m    257\u001b[0m     stream\u001b[38;5;241m=\u001b[39mResponseStream(resp\u001b[38;5;241m.\u001b[39mstream),\n\u001b[0;32m    258\u001b[0m     extensions\u001b[38;5;241m=\u001b[39mresp\u001b[38;5;241m.\u001b[39mextensions,\n\u001b[0;32m    259\u001b[0m )\n",
      "File \u001b[1;32mc:\\Users\\mengerj\\repos\\scverse-x-biochatter\\venv\\lib\\site-packages\\httpcore\\_sync\\connection_pool.py:256\u001b[0m, in \u001b[0;36mConnectionPool.handle_request\u001b[1;34m(self, request)\u001b[0m\n\u001b[0;32m    253\u001b[0m         closing \u001b[38;5;241m=\u001b[39m \u001b[38;5;28mself\u001b[39m\u001b[38;5;241m.\u001b[39m_assign_requests_to_connections()\n\u001b[0;32m    255\u001b[0m     \u001b[38;5;28mself\u001b[39m\u001b[38;5;241m.\u001b[39m_close_connections(closing)\n\u001b[1;32m--> 256\u001b[0m     \u001b[38;5;28;01mraise\u001b[39;00m exc \u001b[38;5;28;01mfrom\u001b[39;00m \u001b[38;5;28;01mNone\u001b[39;00m\n\u001b[0;32m    258\u001b[0m \u001b[38;5;66;03m# Return the response. Note that in this case we still have to manage\u001b[39;00m\n\u001b[0;32m    259\u001b[0m \u001b[38;5;66;03m# the point at which the response is closed.\u001b[39;00m\n\u001b[0;32m    260\u001b[0m \u001b[38;5;28;01massert\u001b[39;00m \u001b[38;5;28misinstance\u001b[39m(response\u001b[38;5;241m.\u001b[39mstream, typing\u001b[38;5;241m.\u001b[39mIterable)\n",
      "File \u001b[1;32mc:\\Users\\mengerj\\repos\\scverse-x-biochatter\\venv\\lib\\site-packages\\httpcore\\_sync\\connection_pool.py:236\u001b[0m, in \u001b[0;36mConnectionPool.handle_request\u001b[1;34m(self, request)\u001b[0m\n\u001b[0;32m    232\u001b[0m connection \u001b[38;5;241m=\u001b[39m pool_request\u001b[38;5;241m.\u001b[39mwait_for_connection(timeout\u001b[38;5;241m=\u001b[39mtimeout)\n\u001b[0;32m    234\u001b[0m \u001b[38;5;28;01mtry\u001b[39;00m:\n\u001b[0;32m    235\u001b[0m     \u001b[38;5;66;03m# Send the request on the assigned connection.\u001b[39;00m\n\u001b[1;32m--> 236\u001b[0m     response \u001b[38;5;241m=\u001b[39m \u001b[43mconnection\u001b[49m\u001b[38;5;241;43m.\u001b[39;49m\u001b[43mhandle_request\u001b[49m\u001b[43m(\u001b[49m\n\u001b[0;32m    237\u001b[0m \u001b[43m        \u001b[49m\u001b[43mpool_request\u001b[49m\u001b[38;5;241;43m.\u001b[39;49m\u001b[43mrequest\u001b[49m\n\u001b[0;32m    238\u001b[0m \u001b[43m    \u001b[49m\u001b[43m)\u001b[49m\n\u001b[0;32m    239\u001b[0m \u001b[38;5;28;01mexcept\u001b[39;00m ConnectionNotAvailable:\n\u001b[0;32m    240\u001b[0m     \u001b[38;5;66;03m# In some cases a connection may initially be available to\u001b[39;00m\n\u001b[0;32m    241\u001b[0m     \u001b[38;5;66;03m# handle a request, but then become unavailable.\u001b[39;00m\n\u001b[0;32m    242\u001b[0m     \u001b[38;5;66;03m#\u001b[39;00m\n\u001b[0;32m    243\u001b[0m     \u001b[38;5;66;03m# In this case we clear the connection and try again.\u001b[39;00m\n\u001b[0;32m    244\u001b[0m     pool_request\u001b[38;5;241m.\u001b[39mclear_connection()\n",
      "File \u001b[1;32mc:\\Users\\mengerj\\repos\\scverse-x-biochatter\\venv\\lib\\site-packages\\httpcore\\_sync\\connection.py:103\u001b[0m, in \u001b[0;36mHTTPConnection.handle_request\u001b[1;34m(self, request)\u001b[0m\n\u001b[0;32m    100\u001b[0m     \u001b[38;5;28mself\u001b[39m\u001b[38;5;241m.\u001b[39m_connect_failed \u001b[38;5;241m=\u001b[39m \u001b[38;5;28;01mTrue\u001b[39;00m\n\u001b[0;32m    101\u001b[0m     \u001b[38;5;28;01mraise\u001b[39;00m exc\n\u001b[1;32m--> 103\u001b[0m \u001b[38;5;28;01mreturn\u001b[39;00m \u001b[38;5;28;43mself\u001b[39;49m\u001b[38;5;241;43m.\u001b[39;49m\u001b[43m_connection\u001b[49m\u001b[38;5;241;43m.\u001b[39;49m\u001b[43mhandle_request\u001b[49m\u001b[43m(\u001b[49m\u001b[43mrequest\u001b[49m\u001b[43m)\u001b[49m\n",
      "File \u001b[1;32mc:\\Users\\mengerj\\repos\\scverse-x-biochatter\\venv\\lib\\site-packages\\httpcore\\_sync\\http11.py:136\u001b[0m, in \u001b[0;36mHTTP11Connection.handle_request\u001b[1;34m(self, request)\u001b[0m\n\u001b[0;32m    134\u001b[0m     \u001b[38;5;28;01mwith\u001b[39;00m Trace(\u001b[38;5;124m\"\u001b[39m\u001b[38;5;124mresponse_closed\u001b[39m\u001b[38;5;124m\"\u001b[39m, logger, request) \u001b[38;5;28;01mas\u001b[39;00m trace:\n\u001b[0;32m    135\u001b[0m         \u001b[38;5;28mself\u001b[39m\u001b[38;5;241m.\u001b[39m_response_closed()\n\u001b[1;32m--> 136\u001b[0m \u001b[38;5;28;01mraise\u001b[39;00m exc\n",
      "File \u001b[1;32mc:\\Users\\mengerj\\repos\\scverse-x-biochatter\\venv\\lib\\site-packages\\httpcore\\_sync\\http11.py:106\u001b[0m, in \u001b[0;36mHTTP11Connection.handle_request\u001b[1;34m(self, request)\u001b[0m\n\u001b[0;32m     95\u001b[0m     \u001b[38;5;28;01mpass\u001b[39;00m\n\u001b[0;32m     97\u001b[0m \u001b[38;5;28;01mwith\u001b[39;00m Trace(\n\u001b[0;32m     98\u001b[0m     \u001b[38;5;124m\"\u001b[39m\u001b[38;5;124mreceive_response_headers\u001b[39m\u001b[38;5;124m\"\u001b[39m, logger, request, kwargs\n\u001b[0;32m     99\u001b[0m ) \u001b[38;5;28;01mas\u001b[39;00m trace:\n\u001b[0;32m    100\u001b[0m     (\n\u001b[0;32m    101\u001b[0m         http_version,\n\u001b[0;32m    102\u001b[0m         status,\n\u001b[0;32m    103\u001b[0m         reason_phrase,\n\u001b[0;32m    104\u001b[0m         headers,\n\u001b[0;32m    105\u001b[0m         trailing_data,\n\u001b[1;32m--> 106\u001b[0m     ) \u001b[38;5;241m=\u001b[39m \u001b[38;5;28mself\u001b[39m\u001b[38;5;241m.\u001b[39m_receive_response_headers(\u001b[38;5;241m*\u001b[39m\u001b[38;5;241m*\u001b[39mkwargs)\n\u001b[0;32m    107\u001b[0m     trace\u001b[38;5;241m.\u001b[39mreturn_value \u001b[38;5;241m=\u001b[39m (\n\u001b[0;32m    108\u001b[0m         http_version,\n\u001b[0;32m    109\u001b[0m         status,\n\u001b[0;32m    110\u001b[0m         reason_phrase,\n\u001b[0;32m    111\u001b[0m         headers,\n\u001b[0;32m    112\u001b[0m     )\n\u001b[0;32m    114\u001b[0m network_stream \u001b[38;5;241m=\u001b[39m \u001b[38;5;28mself\u001b[39m\u001b[38;5;241m.\u001b[39m_network_stream\n",
      "File \u001b[1;32mc:\\Users\\mengerj\\repos\\scverse-x-biochatter\\venv\\lib\\site-packages\\httpcore\\_sync\\http11.py:177\u001b[0m, in \u001b[0;36mHTTP11Connection._receive_response_headers\u001b[1;34m(self, request)\u001b[0m\n\u001b[0;32m    174\u001b[0m timeout \u001b[38;5;241m=\u001b[39m timeouts\u001b[38;5;241m.\u001b[39mget(\u001b[38;5;124m\"\u001b[39m\u001b[38;5;124mread\u001b[39m\u001b[38;5;124m\"\u001b[39m, \u001b[38;5;28;01mNone\u001b[39;00m)\n\u001b[0;32m    176\u001b[0m \u001b[38;5;28;01mwhile\u001b[39;00m \u001b[38;5;28;01mTrue\u001b[39;00m:\n\u001b[1;32m--> 177\u001b[0m     event \u001b[38;5;241m=\u001b[39m \u001b[38;5;28;43mself\u001b[39;49m\u001b[38;5;241;43m.\u001b[39;49m\u001b[43m_receive_event\u001b[49m\u001b[43m(\u001b[49m\u001b[43mtimeout\u001b[49m\u001b[38;5;241;43m=\u001b[39;49m\u001b[43mtimeout\u001b[49m\u001b[43m)\u001b[49m\n\u001b[0;32m    178\u001b[0m     \u001b[38;5;28;01mif\u001b[39;00m \u001b[38;5;28misinstance\u001b[39m(event, h11\u001b[38;5;241m.\u001b[39mResponse):\n\u001b[0;32m    179\u001b[0m         \u001b[38;5;28;01mbreak\u001b[39;00m\n",
      "File \u001b[1;32mc:\\Users\\mengerj\\repos\\scverse-x-biochatter\\venv\\lib\\site-packages\\httpcore\\_sync\\http11.py:217\u001b[0m, in \u001b[0;36mHTTP11Connection._receive_event\u001b[1;34m(self, timeout)\u001b[0m\n\u001b[0;32m    214\u001b[0m     event \u001b[38;5;241m=\u001b[39m \u001b[38;5;28mself\u001b[39m\u001b[38;5;241m.\u001b[39m_h11_state\u001b[38;5;241m.\u001b[39mnext_event()\n\u001b[0;32m    216\u001b[0m \u001b[38;5;28;01mif\u001b[39;00m event \u001b[38;5;129;01mis\u001b[39;00m h11\u001b[38;5;241m.\u001b[39mNEED_DATA:\n\u001b[1;32m--> 217\u001b[0m     data \u001b[38;5;241m=\u001b[39m \u001b[38;5;28;43mself\u001b[39;49m\u001b[38;5;241;43m.\u001b[39;49m\u001b[43m_network_stream\u001b[49m\u001b[38;5;241;43m.\u001b[39;49m\u001b[43mread\u001b[49m\u001b[43m(\u001b[49m\n\u001b[0;32m    218\u001b[0m \u001b[43m        \u001b[49m\u001b[38;5;28;43mself\u001b[39;49m\u001b[38;5;241;43m.\u001b[39;49m\u001b[43mREAD_NUM_BYTES\u001b[49m\u001b[43m,\u001b[49m\u001b[43m \u001b[49m\u001b[43mtimeout\u001b[49m\u001b[38;5;241;43m=\u001b[39;49m\u001b[43mtimeout\u001b[49m\n\u001b[0;32m    219\u001b[0m \u001b[43m    \u001b[49m\u001b[43m)\u001b[49m\n\u001b[0;32m    221\u001b[0m     \u001b[38;5;66;03m# If we feed this case through h11 we'll raise an exception like:\u001b[39;00m\n\u001b[0;32m    222\u001b[0m     \u001b[38;5;66;03m#\u001b[39;00m\n\u001b[0;32m    223\u001b[0m     \u001b[38;5;66;03m#     httpcore.RemoteProtocolError: can't handle event type\u001b[39;00m\n\u001b[1;32m   (...)\u001b[0m\n\u001b[0;32m    227\u001b[0m     \u001b[38;5;66;03m# perspective. Instead we handle this case distinctly and treat\u001b[39;00m\n\u001b[0;32m    228\u001b[0m     \u001b[38;5;66;03m# it as a ConnectError.\u001b[39;00m\n\u001b[0;32m    229\u001b[0m     \u001b[38;5;28;01mif\u001b[39;00m data \u001b[38;5;241m==\u001b[39m \u001b[38;5;124mb\u001b[39m\u001b[38;5;124m\"\u001b[39m\u001b[38;5;124m\"\u001b[39m \u001b[38;5;129;01mand\u001b[39;00m \u001b[38;5;28mself\u001b[39m\u001b[38;5;241m.\u001b[39m_h11_state\u001b[38;5;241m.\u001b[39mtheir_state \u001b[38;5;241m==\u001b[39m h11\u001b[38;5;241m.\u001b[39mSEND_RESPONSE:\n",
      "File \u001b[1;32mc:\\Users\\mengerj\\repos\\scverse-x-biochatter\\venv\\lib\\site-packages\\httpcore\\_backends\\sync.py:128\u001b[0m, in \u001b[0;36mSyncStream.read\u001b[1;34m(self, max_bytes, timeout)\u001b[0m\n\u001b[0;32m    126\u001b[0m \u001b[38;5;28;01mwith\u001b[39;00m map_exceptions(exc_map):\n\u001b[0;32m    127\u001b[0m     \u001b[38;5;28mself\u001b[39m\u001b[38;5;241m.\u001b[39m_sock\u001b[38;5;241m.\u001b[39msettimeout(timeout)\n\u001b[1;32m--> 128\u001b[0m     \u001b[38;5;28;01mreturn\u001b[39;00m \u001b[38;5;28;43mself\u001b[39;49m\u001b[38;5;241;43m.\u001b[39;49m\u001b[43m_sock\u001b[49m\u001b[38;5;241;43m.\u001b[39;49m\u001b[43mrecv\u001b[49m\u001b[43m(\u001b[49m\u001b[43mmax_bytes\u001b[49m\u001b[43m)\u001b[49m\n",
      "File \u001b[1;32m~\\AppData\\Local\\Programs\\Python\\Python310\\lib\\ssl.py:1259\u001b[0m, in \u001b[0;36mSSLSocket.recv\u001b[1;34m(self, buflen, flags)\u001b[0m\n\u001b[0;32m   1255\u001b[0m     \u001b[38;5;28;01mif\u001b[39;00m flags \u001b[38;5;241m!=\u001b[39m \u001b[38;5;241m0\u001b[39m:\n\u001b[0;32m   1256\u001b[0m         \u001b[38;5;28;01mraise\u001b[39;00m \u001b[38;5;167;01mValueError\u001b[39;00m(\n\u001b[0;32m   1257\u001b[0m             \u001b[38;5;124m\"\u001b[39m\u001b[38;5;124mnon-zero flags not allowed in calls to recv() on \u001b[39m\u001b[38;5;132;01m%s\u001b[39;00m\u001b[38;5;124m\"\u001b[39m \u001b[38;5;241m%\u001b[39m\n\u001b[0;32m   1258\u001b[0m             \u001b[38;5;28mself\u001b[39m\u001b[38;5;241m.\u001b[39m\u001b[38;5;18m__class__\u001b[39m)\n\u001b[1;32m-> 1259\u001b[0m     \u001b[38;5;28;01mreturn\u001b[39;00m \u001b[38;5;28;43mself\u001b[39;49m\u001b[38;5;241;43m.\u001b[39;49m\u001b[43mread\u001b[49m\u001b[43m(\u001b[49m\u001b[43mbuflen\u001b[49m\u001b[43m)\u001b[49m\n\u001b[0;32m   1260\u001b[0m \u001b[38;5;28;01melse\u001b[39;00m:\n\u001b[0;32m   1261\u001b[0m     \u001b[38;5;28;01mreturn\u001b[39;00m \u001b[38;5;28msuper\u001b[39m()\u001b[38;5;241m.\u001b[39mrecv(buflen, flags)\n",
      "File \u001b[1;32m~\\AppData\\Local\\Programs\\Python\\Python310\\lib\\ssl.py:1132\u001b[0m, in \u001b[0;36mSSLSocket.read\u001b[1;34m(self, len, buffer)\u001b[0m\n\u001b[0;32m   1130\u001b[0m         \u001b[38;5;28;01mreturn\u001b[39;00m \u001b[38;5;28mself\u001b[39m\u001b[38;5;241m.\u001b[39m_sslobj\u001b[38;5;241m.\u001b[39mread(\u001b[38;5;28mlen\u001b[39m, buffer)\n\u001b[0;32m   1131\u001b[0m     \u001b[38;5;28;01melse\u001b[39;00m:\n\u001b[1;32m-> 1132\u001b[0m         \u001b[38;5;28;01mreturn\u001b[39;00m \u001b[38;5;28;43mself\u001b[39;49m\u001b[38;5;241;43m.\u001b[39;49m\u001b[43m_sslobj\u001b[49m\u001b[38;5;241;43m.\u001b[39;49m\u001b[43mread\u001b[49m\u001b[43m(\u001b[49m\u001b[38;5;28;43mlen\u001b[39;49m\u001b[43m)\u001b[49m\n\u001b[0;32m   1133\u001b[0m \u001b[38;5;28;01mexcept\u001b[39;00m SSLError \u001b[38;5;28;01mas\u001b[39;00m x:\n\u001b[0;32m   1134\u001b[0m     \u001b[38;5;28;01mif\u001b[39;00m x\u001b[38;5;241m.\u001b[39margs[\u001b[38;5;241m0\u001b[39m] \u001b[38;5;241m==\u001b[39m SSL_ERROR_EOF \u001b[38;5;129;01mand\u001b[39;00m \u001b[38;5;28mself\u001b[39m\u001b[38;5;241m.\u001b[39msuppress_ragged_eofs:\n",
      "\u001b[1;31mKeyboardInterrupt\u001b[0m: "
     ]
    }
   ],
   "source": [
    "query = [\n",
    "\t(\"system\", \"You're an expert data scientist\"), \n",
    "\t(\"human\", \"I want to mark mitochondrial genes of my adata object by checking the basic strings in var_names\"),\n",
    "]\n",
    "result = chain.invoke(query)\n",
    "result"
   ]
  },
  {
   "cell_type": "markdown",
   "id": "55007344-6876-4e7b-a885-b691e05f242a",
   "metadata": {},
   "source": [
    "#### calculate qc_metrics including mitochondrial as covariate\n",
    "\n",
    "Expected code snippet:\n",
    "\n",
    "```\n",
    "sc.pp.calculate_qc_metrics(\n",
    "    adata, qc_vars=[\"mt\"], percent_top=None, log1p=False, inplace=True\n",
    ")\n",
    "```"
   ]
  },
  {
   "cell_type": "code",
   "execution_count": 40,
   "id": "6c13d23b-496c-496b-8658-f14569686810",
   "metadata": {},
   "outputs": [
    {
     "data": {
      "text/plain": [
       "[]"
      ]
     },
     "execution_count": 40,
     "metadata": {},
     "output_type": "execute_result"
    }
   ],
   "source": [
    "query = [\n",
    "\t(\"system\", \"You're an expert data scientist. You know how to use scanpy. Please make sure you parameterize a function call according to the provided schema\"), \n",
    "\t(\"human\", \"I want to use scanpy pp to compute quality control metrics\"),\n",
    "]\n",
    "chain = llm_with_tools | PydanticToolsParser(tools=generated_classes)\n",
    "result = chain.invoke(query)\n",
    "result"
   ]
  },
  {
   "cell_type": "markdown",
   "id": "80f18db5-576a-48bd-bd19-de84013de052",
   "metadata": {},
   "source": [
    "#### filter genes detected in less than 3 cells\n",
    "Expected code snippet:\n",
    "\n",
    "```\n",
    "sc.pp.filter_genes(adata, min_cells=3)\n",
    "```"
   ]
  },
  {
   "cell_type": "code",
   "execution_count": 41,
   "id": "f6b95f9e-5937-4458-98c4-85e063763dfa",
   "metadata": {},
   "outputs": [
    {
     "data": {
      "text/plain": [
       "[filter_genes(data={'n_obs': 10, 'n_vars': 5}, min_counts=None, min_cells=3, max_counts=None, max_cells=None, inplace=True, copy_param=False)]"
      ]
     },
     "execution_count": 41,
     "metadata": {},
     "output_type": "execute_result"
    }
   ],
   "source": [
    "query = [\n",
    "\t(\"system\", \"You're an expert data scientist. You know how to use scanpy. You are supposed to output a correctly parametized function call\"), \n",
    "\t(\"human\", \"I want to use scanpy pp to filter genes with at least 3 cells\"),\n",
    "]\n",
    "result = chain.invoke(query)\n",
    "result"
   ]
  },
  {
   "cell_type": "markdown",
   "id": "d1850eab-8f96-4dbf-bae9-f42659a1a3cc",
   "metadata": {},
   "source": [
    "#### filter cells with less than 200 genes\n",
    "Expected code snippet:\n",
    "\n",
    "```\n",
    "sc.pp.filter_cells(adata, min_genes=200)\n",
    "```"
   ]
  },
  {
   "cell_type": "code",
   "execution_count": 44,
   "id": "93e7827a-796d-475a-baed-e499f664845b",
   "metadata": {},
   "outputs": [
    {
     "data": {
      "text/plain": [
       "[filter_cells(data={'n_obs': 1000, 'n_vars': 2000}, min_counts=None, min_genes=200, max_counts=None, max_genes=None, inplace=True, copy_param=False)]"
      ]
     },
     "execution_count": 44,
     "metadata": {},
     "output_type": "execute_result"
    }
   ],
   "source": [
    "query = [\n",
    "\t(\"system\", \"You're an expert data scientist. You know how to use scanpy. You are supposed to output a correctly parametized function call\"), \n",
    "\t(\"human\", \"I want to use scanpy pp to filter cells with at least 200 genes\"),\n",
    "]\n",
    "result = chain.invoke(query)\n",
    "result"
   ]
  },
  {
   "cell_type": "markdown",
   "id": "79b14829-d14d-40d5-b7a9-71520305a1b6",
   "metadata": {},
   "source": [
    "#### filter cells with more than 2500 genes\n",
    "Expected code snippet:\n",
    "\n",
    "```\n",
    "sc.pp.filter_cells(adata, max_genes=2500)\n",
    "```"
   ]
  },
  {
   "cell_type": "code",
   "execution_count": null,
   "id": "095a459b-9062-42d8-a709-2c5c698e8e08",
   "metadata": {},
   "outputs": [],
   "source": []
  },
  {
   "cell_type": "markdown",
   "id": "b74a2813-c1e4-44b7-bdf3-3206f47a5064",
   "metadata": {},
   "source": [
    "#### filter cells with less than 5% mitochondrial fraction\n",
    "Expected code snippet:\n",
    "\n",
    "```\n",
    "adata = adata[adata.obs.pct_counts_mt < 5, :].copy()\n",
    "\n",
    "```"
   ]
  },
  {
   "cell_type": "code",
   "execution_count": null,
   "id": "60b47bb7-d95d-4e05-aa49-35fb8be4c1d4",
   "metadata": {},
   "outputs": [],
   "source": []
  },
  {
   "cell_type": "markdown",
   "id": "14cfc60c-6c85-4cb4-8b39-82e71c329a6e",
   "metadata": {},
   "source": [
    "#### store raw counts in a separate layer\n",
    "Expected code snippet:\n",
    "\n",
    "```\n",
    "adata.layers['counts'] = adata.X.copy()\n",
    "```"
   ]
  },
  {
   "cell_type": "code",
   "execution_count": null,
   "id": "fe64c73b-7650-4b22-b579-d3611658e900",
   "metadata": {},
   "outputs": [],
   "source": []
  },
  {
   "cell_type": "markdown",
   "id": "9c32eb59-540a-4ea3-ade1-93c200626a25",
   "metadata": {},
   "source": [
    "#### normalize expression\n",
    "Expected code snippet:\n",
    "\n",
    "```\n",
    "sc.pp.normalize_total(adata, target_sum=1e4)\n",
    "```"
   ]
  },
  {
   "cell_type": "code",
   "execution_count": 45,
   "id": "595f9216-72c4-4a1f-8467-158ba3f87cc0",
   "metadata": {},
   "outputs": [
    {
     "data": {
      "text/plain": [
       "[normalize_total(adata={}, target_sum=10000, exclude_highly_expressed=False, max_fraction=0.05, key_added=None, layer=None, layers=None, layer_norm=None, inplace=True, copy_param=False)]"
      ]
     },
     "execution_count": 45,
     "metadata": {},
     "output_type": "execute_result"
    }
   ],
   "source": [
    "query = [\n",
    "\t(\"system\", \"You're an expert data scientist. You know how to use scanpy. You are supposed to output a correctly parametized function call\"), \n",
    "\t(\"human\", \"I want to normalize my cells to a target sum of 10000\"),\n",
    "]\n",
    "result = chain.invoke(query)\n",
    "result"
   ]
  },
  {
   "cell_type": "markdown",
   "id": "a52439a0-7756-4616-8c5a-8bfaf7898e90",
   "metadata": {},
   "source": [
    "#### log transform\n",
    "Expected code snippet:\n",
    "\n",
    "```\n",
    "sc.pp.log1p(adata)\n",
    "```"
   ]
  },
  {
   "cell_type": "code",
   "execution_count": null,
   "id": "f099cbf2-5ea0-48d5-a960-4b8b8443b2b7",
   "metadata": {},
   "outputs": [],
   "source": []
  },
  {
   "cell_type": "markdown",
   "id": "d34641eb-22b8-4f92-8e9b-4a6460111f67",
   "metadata": {},
   "source": [
    "#### calculate highly variable genes\n",
    "Expected code snippet:\n",
    "\n",
    "```\n",
    "sc.pp.highly_variable_genes(adata)\n",
    "```"
   ]
  },
  {
   "cell_type": "code",
   "execution_count": null,
   "id": "0b3b468f-be40-40d3-9fe6-021cf8b492b4",
   "metadata": {},
   "outputs": [],
   "source": []
  },
  {
   "cell_type": "markdown",
   "id": "2f11f120-d796-4ee3-8a04-77f77e4a9dc4",
   "metadata": {},
   "source": [
    "#### compute PCA\n",
    "Expected code snippet:\n",
    "\n",
    "```\n",
    "sc.pp.pca(adata) | sc.tl.pca(adata)\n",
    "```"
   ]
  },
  {
   "cell_type": "code",
   "execution_count": null,
   "id": "d1e25a1c-f892-4fb2-8b37-86a0cf7e78c1",
   "metadata": {},
   "outputs": [],
   "source": []
  },
  {
   "cell_type": "markdown",
   "id": "b33eacca-bac9-4739-9399-166b0ed1321f",
   "metadata": {},
   "source": [
    "#### compute neighbors\n",
    "Expected code snippet:\n",
    "\n",
    "```\n",
    "sc.pp.neighbors(adata)\n",
    "```"
   ]
  },
  {
   "cell_type": "code",
   "execution_count": null,
   "id": "be9f9f49-5164-4d91-a165-c670eab6fe02",
   "metadata": {},
   "outputs": [],
   "source": []
  },
  {
   "cell_type": "markdown",
   "id": "317745be-828e-48a8-96b0-2414201652fc",
   "metadata": {
    "jp-MarkdownHeadingCollapsed": true
   },
   "source": [
    "# Tools TL"
   ]
  },
  {
   "cell_type": "markdown",
   "id": "afcf33a3-1c86-45d4-81c6-c4ca5107b223",
   "metadata": {
    "jp-MarkdownHeadingCollapsed": true
   },
   "source": [
    "## Embeddings"
   ]
  },
  {
   "cell_type": "markdown",
   "id": "ad5eb65e-b273-4af3-8acc-dc33f43e60a2",
   "metadata": {},
   "source": [
    "#### UMAP\n",
    "Expected code snippet:\n",
    "\n",
    "```\n",
    "sc.tl.umap(adata)\n",
    "```"
   ]
  },
  {
   "cell_type": "code",
   "execution_count": null,
   "id": "cee9c354-85a6-40e9-9b23-149500f4f69a",
   "metadata": {},
   "outputs": [],
   "source": []
  },
  {
   "cell_type": "markdown",
   "id": "ecc27083-cf0d-40d8-bffa-f4cefd57bda7",
   "metadata": {},
   "source": [
    "#### TSNE\n",
    "Expected code snippet:\n",
    "\n",
    "```\n",
    "sc.tl.tsne(adata)\n",
    "```"
   ]
  },
  {
   "cell_type": "code",
   "execution_count": null,
   "id": "80de4ade-0cfe-49f5-874f-1a4669c8e026",
   "metadata": {},
   "outputs": [],
   "source": []
  },
  {
   "cell_type": "markdown",
   "id": "1be1f2d9-3fd0-4d2a-9102-b7083c8bf2a7",
   "metadata": {},
   "source": [
    "#### Diffusion maps\n",
    "Expected code snippet:\n",
    "\n",
    "```\n",
    "sc.tl.diffmap(adata)\n",
    "```"
   ]
  },
  {
   "cell_type": "code",
   "execution_count": null,
   "id": "bce03747-e59d-4049-af96-61858e5114ce",
   "metadata": {},
   "outputs": [],
   "source": []
  },
  {
   "cell_type": "markdown",
   "id": "2e5cbe71-c6a6-47c1-86f2-b57d99c0b1cc",
   "metadata": {},
   "source": [
    "#### force directed graph\n",
    "Expected code snippet:\n",
    "\n",
    "```\n",
    "sc.tl.draw_graph(adata)\n",
    "```"
   ]
  },
  {
   "cell_type": "code",
   "execution_count": null,
   "id": "6913af62-249c-4890-9cd8-c15d22932f9e",
   "metadata": {},
   "outputs": [],
   "source": []
  },
  {
   "cell_type": "markdown",
   "id": "9916a551-58b2-4723-97b3-2a15b98a2285",
   "metadata": {
    "jp-MarkdownHeadingCollapsed": true
   },
   "source": [
    "## Clustering & trajectories"
   ]
  },
  {
   "cell_type": "markdown",
   "id": "855beea8-d16b-40a1-b7c5-b9b902b77a62",
   "metadata": {},
   "source": [
    "#### Leiden\n",
    "Expected code snippet:\n",
    "\n",
    "```\n",
    "sc.tl.leiden(adata, resolution = X)\n",
    "```"
   ]
  },
  {
   "cell_type": "code",
   "execution_count": null,
   "id": "44920ba6-e464-4dcf-a6d4-d5deb494df05",
   "metadata": {},
   "outputs": [],
   "source": []
  },
  {
   "cell_type": "markdown",
   "id": "2311ab6e-55f7-4df2-9db7-35a56d9c2f02",
   "metadata": {},
   "source": [
    "#### Pseudotime\n",
    "Expected code snippet:\n",
    "\n",
    "```\n",
    "sc.tl.dpt(adata)\n",
    "```"
   ]
  },
  {
   "cell_type": "code",
   "execution_count": null,
   "id": "29e9a44c-8f89-473b-8bc0-26de994eeeb7",
   "metadata": {},
   "outputs": [],
   "source": []
  },
  {
   "cell_type": "code",
   "execution_count": null,
   "id": "b042018d-6a96-42f9-9d4a-8931957b37bb",
   "metadata": {},
   "outputs": [],
   "source": []
  },
  {
   "cell_type": "markdown",
   "id": "3cdfdc4c-1b16-44b7-9aad-fca56ba74ced",
   "metadata": {},
   "source": [
    "#### marker genes of leiden clusters\n",
    "Expected code snippet:\n",
    "\n",
    "```\n",
    "sc.tl.rank_genes_by_groups(adata, groupby = \"leiden\")\n",
    "```"
   ]
  },
  {
   "cell_type": "code",
   "execution_count": null,
   "id": "50c1836f-fe57-4472-bd29-4439a29e02b9",
   "metadata": {},
   "outputs": [],
   "source": []
  },
  {
   "cell_type": "markdown",
   "id": "2e4d1e99-0108-4ecb-9ca3-f5eb4dde2eba",
   "metadata": {},
   "source": [
    "# Plotting PL"
   ]
  },
  {
   "cell_type": "markdown",
   "id": "ea404ba6-a269-44bb-afd8-c862b934c049",
   "metadata": {},
   "source": [
    "## QC"
   ]
  },
  {
   "cell_type": "markdown",
   "id": "a254e5d9-1642-4dae-98c0-e80e9d441394",
   "metadata": {},
   "source": [
    "#### Plot highest expressed genes\n",
    "\n",
    "Expected code snippets:\n",
    "```\n",
    "scanpy.pl.highest_expr_genes(adata, n_top=20)\n",
    "```"
   ]
  },
  {
   "cell_type": "code",
   "execution_count": null,
   "id": "a8ece2b7-2e6a-47f2-91a2-b2b22a32e7d6",
   "metadata": {},
   "outputs": [],
   "source": []
  },
  {
   "cell_type": "markdown",
   "id": "e8ef1e7d-8278-4989-8e2b-c5a2ca6f7a9d",
   "metadata": {},
   "source": [
    "#### Plot highly variable genes\n",
    "\n",
    "Expected code snippets:\n",
    "```\n",
    "sc.pl.highly_variable_genes(adata)\n",
    "```"
   ]
  },
  {
   "cell_type": "code",
   "execution_count": null,
   "id": "c02cc1d5-1256-4d11-95aa-244bd6660769",
   "metadata": {},
   "outputs": [],
   "source": []
  },
  {
   "cell_type": "markdown",
   "id": "d7e4fe4c-091c-489b-b8a1-b3054dfacbdd",
   "metadata": {
    "jp-MarkdownHeadingCollapsed": true
   },
   "source": [
    "## Scatters"
   ]
  },
  {
   "cell_type": "markdown",
   "id": "91e7df73-d00a-43a0-93f7-1cb2b1cef8ee",
   "metadata": {},
   "source": [
    "#### scatter plot\n",
    "\n",
    "Pick the categories in obs you want to as x and y axes (must be continuous variables)\n",
    "Pick the category to color the dots with, can be continuos and categorical\n",
    "\n",
    "Expected code snippet:\n",
    "\n",
    "```\n",
    "sc.pl.scatter(adata, x = \"category_x\", y = \"category_y\", color = color_category\"])\n",
    "```"
   ]
  },
  {
   "cell_type": "markdown",
   "id": "9d295c0b-076f-40f5-9b9a-db45daf9ae00",
   "metadata": {
    "jp-MarkdownHeadingCollapsed": true
   },
   "source": [
    "## Embeddings"
   ]
  },
  {
   "cell_type": "markdown",
   "id": "b2c7c8c2-01ba-4517-9184-e6a5329a7d24",
   "metadata": {},
   "source": [
    "#### UMAP\n",
    "\n",
    "Pick the category in obs/var you want to plot\n",
    "\n",
    "Expected code snippet:\n",
    "\n",
    "```\n",
    "sc.pl.umap(adata, color = 'category')\n",
    "```"
   ]
  },
  {
   "cell_type": "code",
   "execution_count": null,
   "id": "20068d9e-6151-4e4f-9c7b-129431eea1f9",
   "metadata": {},
   "outputs": [],
   "source": []
  },
  {
   "cell_type": "markdown",
   "id": "afd167a4-2b54-4ac0-a803-3a17fa1e02ef",
   "metadata": {},
   "source": [
    "#### UMAP multiple categories\n",
    "\n",
    "Pick the categories in obs/var you want to plot\n",
    "\n",
    "Expected code snippet:\n",
    "\n",
    "```\n",
    "sc.pl.umap(adata, color = [\"category_1\", ..., \"category_N\"])\n",
    "```"
   ]
  },
  {
   "cell_type": "code",
   "execution_count": null,
   "id": "7528cfd0-527b-4347-ba4b-bf3a313f88a9",
   "metadata": {},
   "outputs": [],
   "source": []
  },
  {
   "cell_type": "markdown",
   "id": "117f92bc-3a5a-4745-9f1e-76a81419242f",
   "metadata": {},
   "source": [
    "#### TSNE\n",
    "\n",
    "Pick the category in obs/var you want to plot\n",
    "\n",
    "Expected code snippet:\n",
    "\n",
    "```\n",
    "sc.pl.tsne(adata, color = 'category')\n",
    "```"
   ]
  },
  {
   "cell_type": "code",
   "execution_count": null,
   "id": "2e48868c-1316-494f-b750-b4062678f70b",
   "metadata": {},
   "outputs": [],
   "source": []
  },
  {
   "cell_type": "markdown",
   "id": "29507be3-d6ca-4316-bc60-b1338eefb072",
   "metadata": {},
   "source": [
    "#### draw_graph\n",
    "\n",
    "Pick the category in obs/var you want to plot\n",
    "\n",
    "Expected code snippet:\n",
    "\n",
    "```\n",
    "sc.pl.draw_graph(adata, color = 'category')\n",
    "```"
   ]
  },
  {
   "cell_type": "code",
   "execution_count": null,
   "id": "0366b017-969c-4fdd-b6ab-70c68d217474",
   "metadata": {},
   "outputs": [],
   "source": []
  },
  {
   "cell_type": "markdown",
   "id": "76083ca1-61a9-4f75-a887-64ee78f70bd0",
   "metadata": {},
   "source": [
    "#### pca\n",
    "\n",
    "Pick the category in obs/var you want to plot\n",
    "\n",
    "Expected code snippet:\n",
    "\n",
    "```\n",
    "sc.pl.pca(adata, color = 'category')\n",
    "```"
   ]
  },
  {
   "cell_type": "code",
   "execution_count": null,
   "id": "744f132d-2259-4bb1-bfd6-0b01bb78e11e",
   "metadata": {},
   "outputs": [],
   "source": []
  },
  {
   "cell_type": "markdown",
   "id": "0a70cdb3-5179-4e35-ac26-1bbab6835ef3",
   "metadata": {
    "jp-MarkdownHeadingCollapsed": true
   },
   "source": [
    "## Generic"
   ]
  },
  {
   "cell_type": "markdown",
   "id": "3fd9442b-622b-4527-821e-51a68c24a431",
   "metadata": {},
   "source": [
    "#### Heatmap\n",
    "\n",
    "pick the list of genes you want to plot. e.g.:\n",
    "```\n",
    "[\n",
    "'KIR3DL2-1',\n",
    "'AL590523.1',\n",
    "'CT476828.1',\n",
    "'PNRC2-1',\n",
    "'SRSF10-1',\n",
    "'AC145205.1',\n",
    "'BAGE5',\n",
    "'CU459201.1',\n",
    "'AC002321.2',\n",
    "'AC002321.1'\n",
    "]\n",
    "```\n",
    "\n",
    "pick the category to group the heatmap by, from the .obs\n",
    "\n",
    "Expected code snippets:\n",
    "\n",
    "```\n",
    "sc.pl.heatmap(adata, groupby = \"grouping category\", var_names = list_of_genes)\n",
    "```\n"
   ]
  },
  {
   "cell_type": "code",
   "execution_count": null,
   "id": "96e5b297-d3ab-4fb4-b2ee-649cf06bf870",
   "metadata": {},
   "outputs": [],
   "source": []
  },
  {
   "cell_type": "markdown",
   "id": "734e8a89-2720-4c42-a26b-e8e3e302c04b",
   "metadata": {},
   "source": [
    "#### Dotplot\n",
    "\n",
    "pick the list of genes you want to plot. e.g.:\n",
    "```\n",
    "[\n",
    "'KIR3DL2-1',\n",
    "'AL590523.1',\n",
    "'CT476828.1',\n",
    "'PNRC2-1',\n",
    "'SRSF10-1',\n",
    "'AC145205.1',\n",
    "'BAGE5',\n",
    "'CU459201.1',\n",
    "'AC002321.2',\n",
    "'AC002321.1'\n",
    "]\n",
    "```\n",
    "\n",
    "pick the category to group the dotplot by, from the .obs\n",
    "\n",
    "Expected code snippets:\n",
    "\n",
    "```\n",
    "sc.pl.dotplot(adata, groupby = \"grouping category\", var_names = list_of_genes)\n",
    "```\n"
   ]
  },
  {
   "cell_type": "code",
   "execution_count": null,
   "id": "76db0d80-6476-4297-a7f1-f5a6a1dac0f0",
   "metadata": {},
   "outputs": [],
   "source": []
  },
  {
   "cell_type": "markdown",
   "id": "fb958a45-face-4fbb-8a1b-72772d742095",
   "metadata": {},
   "source": [
    "#### Matrixplot\n",
    "\n",
    "pick the list of genes you want to plot. e.g.:\n",
    "```\n",
    "[\n",
    "'KIR3DL2-1',\n",
    "'AL590523.1',\n",
    "'CT476828.1',\n",
    "'PNRC2-1',\n",
    "'SRSF10-1',\n",
    "'AC145205.1',\n",
    "'BAGE5',\n",
    "'CU459201.1',\n",
    "'AC002321.2',\n",
    "'AC002321.1'\n",
    "]\n",
    "```\n",
    "\n",
    "pick the category to group the matrix by, from the .obs\n",
    "\n",
    "Expected code snippets:\n",
    "\n",
    "```\n",
    "sc.pl.matrixplot(adata, groupby = \"grouping category\", var_names = list_of_genes)\n",
    "```\n"
   ]
  },
  {
   "cell_type": "code",
   "execution_count": null,
   "id": "d4e93b91-66e4-48ad-a694-d74013c461c0",
   "metadata": {},
   "outputs": [],
   "source": []
  },
  {
   "cell_type": "markdown",
   "id": "b7f612e7-614c-4dcd-a07d-2437226da9b9",
   "metadata": {},
   "source": [
    "#### Violinplot\n",
    "\n",
    "pick the list of genes you want to plot. e.g.:\n",
    "```\n",
    "[\n",
    "'KIR3DL2-1',\n",
    "'AL590523.1',\n",
    "'CT476828.1',\n",
    "'PNRC2-1',\n",
    "'SRSF10-1',\n",
    "'AC145205.1',\n",
    "'BAGE5',\n",
    "'CU459201.1',\n",
    "'AC002321.2',\n",
    "'AC002321.1'\n",
    "]\n",
    "```\n",
    "\n",
    "pick the category to group the violin columns by, from the .obs\n",
    "\n",
    "Expected code snippets:\n",
    "\n",
    "```\n",
    "sc.pl.violin(adata, keys = gene_list, groupby=\"grouping category\")\n",
    "```\n"
   ]
  },
  {
   "cell_type": "code",
   "execution_count": null,
   "id": "20ca7d7c-24d4-4577-8f1a-d8c0e0105a98",
   "metadata": {},
   "outputs": [],
   "source": []
  },
  {
   "cell_type": "markdown",
   "id": "41323633-55c4-496f-93a2-b47ee121b369",
   "metadata": {},
   "source": [
    "#### Cluster Map\n",
    "\n",
    "\n",
    "pick the category to group cells by, from the .obs\n",
    "\n",
    "Expected code snippets:\n",
    "\n",
    "```\n",
    "sc.pl.clustermap(adata, obs_keys=None)\n",
    "```\n"
   ]
  },
  {
   "cell_type": "markdown",
   "id": "b969e548-ce6b-4faf-b43e-5a72b30a816c",
   "metadata": {
    "jp-MarkdownHeadingCollapsed": true
   },
   "source": [
    "## Marker genes"
   ]
  },
  {
   "cell_type": "code",
   "execution_count": null,
   "id": "9bd572a6-4da1-48d1-893c-63ae414f4d46",
   "metadata": {},
   "outputs": [],
   "source": []
  },
  {
   "cell_type": "markdown",
   "id": "1896e3de-fb47-497c-ab29-7c4dc27ebb66",
   "metadata": {},
   "source": [
    "### Heatmap\n",
    "\n",
    "Expected code snippets\n",
    "```\n",
    "sc.pl.rank_genes_groups_heatmap(adata, n_genes=5, groupby=None, values_)\n",
    "```"
   ]
  },
  {
   "cell_type": "code",
   "execution_count": null,
   "id": "b85523a4-ef35-41ac-a2e1-e30b173f515c",
   "metadata": {},
   "outputs": [],
   "source": []
  },
  {
   "cell_type": "markdown",
   "id": "0c79cf0e-bcf5-4e0e-95a6-3be100c50ae2",
   "metadata": {},
   "source": [
    "### Dotplot with logfoldchanges\n",
    "\n",
    "Set vmin and vmax to +/- 2.5\n",
    "\n",
    "Expected code snippets\n",
    "```\n",
    "sc.pl.rank_genes_groups_dotplot(adata, n_genes=5, groupby=None, values_to_plot=\"logfoldchanges\", vmin = -2.5, vmax = 2.5)\n",
    "```"
   ]
  },
  {
   "cell_type": "code",
   "execution_count": null,
   "id": "83436dab-815b-453b-8e6e-7e3680f1f55d",
   "metadata": {},
   "outputs": [],
   "source": []
  },
  {
   "cell_type": "markdown",
   "id": "5de7081e-dacc-44de-a049-db49140ba886",
   "metadata": {},
   "source": [
    "### Matrixplot with logfoldchanges\n",
    "\n",
    "Set vmin and vmax to +/- 2.5\n",
    "\n",
    "Expected code snippets\n",
    "```\n",
    "sc.pl.rank_genes_groups_matrixplot(adata, n_genes=5, groupby=None, values_to_plot=\"logfoldchanges\", vmin = -2.5, vmax = 2.5)\n",
    "```"
   ]
  },
  {
   "cell_type": "code",
   "execution_count": null,
   "id": "d4cfc2c2-d16a-49fa-a071-04e8a14f5853",
   "metadata": {},
   "outputs": [],
   "source": []
  }
 ],
 "metadata": {
  "kernelspec": {
   "display_name": "Python 3 (ipykernel)",
   "language": "python",
   "name": "python3"
  },
  "language_info": {
   "codemirror_mode": {
    "name": "ipython",
    "version": 3
   },
   "file_extension": ".py",
   "mimetype": "text/x-python",
   "name": "python",
   "nbconvert_exporter": "python",
   "pygments_lexer": "ipython3",
   "version": "3.10.10"
  }
 },
 "nbformat": 4,
 "nbformat_minor": 5
}
